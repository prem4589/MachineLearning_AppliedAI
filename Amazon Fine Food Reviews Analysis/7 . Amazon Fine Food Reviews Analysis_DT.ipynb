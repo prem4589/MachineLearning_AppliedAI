{
 "cells": [
  {
   "cell_type": "markdown",
   "metadata": {
    "colab_type": "text",
    "id": "cyXEgMWtMQvM"
   },
   "source": [
    "# Amazon Fine Food Reviews Analysis\n",
    "\n",
    "\n",
    "Data Source: https://www.kaggle.com/snap/amazon-fine-food-reviews\n",
    "\n",
    "The Amazon Fine Food Reviews dataset consists of reviews of fine foods from Amazon.<br>\n",
    "\n",
    "Number of reviews: 568,454<br>\n",
    "Number of users: 256,059<br>\n",
    "Number of products: 74,258<br>\n",
    "Timespan: Oct 1999 - Oct 2012<br>\n",
    "Number of Attributes/Columns in data: 10 \n",
    "\n",
    "Attribute Information:\n",
    "\n",
    "1. Id\n",
    "2. ProductId - unique identifier for the product\n",
    "3. UserId - unqiue identifier for the user\n",
    "4. ProfileName\n",
    "5. HelpfulnessNumerator - number of users who found the review helpful\n",
    "6. HelpfulnessDenominator - number of users who indicated whether they found the review helpful or not\n",
    "7. Score - rating between 1 and 5\n",
    "8. Time - timestamp for the review\n",
    "9. Summary - brief summary of the review\n",
    "10. Text - text of the review\n",
    "\n",
    "\n",
    "<b>Objective:-</b>\n",
    "Given a review, determine whether the review is positive (Rating of 4 or 5) or negative (rating of 1 or 2).\n",
    "\n",
    "<br>\n",
    "[Q] How to determine if a review is positive or negative?<br>\n",
    "<br> \n",
    "[Ans] We could use the Score/Rating. A rating of 4 or 5 could be cosnidered a positive review. A review of 1 or 2 could be considered negative. A review of 3 is nuetral and ignored. This is an approximate and proxy way of determining the polarity (positivity/negativity) of a review.\n",
    "\n",
    "\n"
   ]
  },
  {
   "cell_type": "markdown",
   "metadata": {
    "colab_type": "text",
    "id": "nTN9VK62MQvN"
   },
   "source": [
    "## [1.1] Loading the data\n",
    "\n",
    "The dataset is available in two forms\n",
    "1. .csv file\n",
    "2. SQLite Database\n",
    "\n",
    "In order to load the data, We have used the SQLITE dataset as it easier to query the data and visualise the data efficiently.\n",
    "<br> \n",
    "\n",
    "Here as we only want to get the global sentiment of the recommendations (positive or negative), we will purposefully ignore all Scores equal to 3. If the score id above 3, then the recommendation wil be set to \"positive\". Otherwise, it will be set to \"negative\"."
   ]
  },
  {
   "cell_type": "code",
   "execution_count": 1,
   "metadata": {
    "ExecuteTime": {
     "end_time": "2019-03-31T20:40:11.109711Z",
     "start_time": "2019-03-31T20:40:08.636377Z"
    },
    "colab": {},
    "colab_type": "code",
    "id": "vXnuoQYEMQvO"
   },
   "outputs": [],
   "source": [
    "%matplotlib inline\n",
    "import warnings\n",
    "warnings.filterwarnings(\"ignore\")\n",
    "import sqlite3\n",
    "import pandas as pd\n",
    "import numpy as np\n",
    "import nltk\n",
    "import string\n",
    "import matplotlib.pyplot as plt\n",
    "import matplotlib.pyplot as pyplt\n",
    "import seaborn as sns\n",
    "from sklearn.feature_extraction.text import TfidfTransformer\n",
    "from sklearn.feature_extraction.text import TfidfVectorizer\n",
    "from sklearn.feature_extraction.text import CountVectorizer\n",
    "from sklearn.metrics import confusion_matrix\n",
    "from sklearn import metrics\n",
    "from sklearn.metrics import roc_curve, auc\n",
    "from nltk.stem.porter import PorterStemmer\n",
    "import re\n",
    "# Tutorial about Python regular expressions: https://pymotw.com/2/re/\n",
    "import string\n",
    "from nltk.corpus import stopwords\n",
    "from nltk.stem import PorterStemmer\n",
    "from nltk.stem.wordnet import WordNetLemmatizer\n",
    "import pickle\n",
    "from tqdm import tqdm\n",
    "import os"
   ]
  },
  {
   "cell_type": "code",
   "execution_count": 2,
   "metadata": {
    "ExecuteTime": {
     "end_time": "2019-03-31T20:40:19.502555Z",
     "start_time": "2019-03-31T20:40:11.139207Z"
    },
    "colab": {},
    "colab_type": "code",
    "id": "-lrJx9N9MQvT"
   },
   "outputs": [
    {
     "name": "stdout",
     "output_type": "stream",
     "text": [
      "Number of data points in our data (525814, 10)\n"
     ]
    },
    {
     "data": {
      "text/html": [
       "<div>\n",
       "<style scoped>\n",
       "    .dataframe tbody tr th:only-of-type {\n",
       "        vertical-align: middle;\n",
       "    }\n",
       "\n",
       "    .dataframe tbody tr th {\n",
       "        vertical-align: top;\n",
       "    }\n",
       "\n",
       "    .dataframe thead th {\n",
       "        text-align: right;\n",
       "    }\n",
       "</style>\n",
       "<table border=\"1\" class=\"dataframe\">\n",
       "  <thead>\n",
       "    <tr style=\"text-align: right;\">\n",
       "      <th></th>\n",
       "      <th>Id</th>\n",
       "      <th>ProductId</th>\n",
       "      <th>UserId</th>\n",
       "      <th>ProfileName</th>\n",
       "      <th>HelpfulnessNumerator</th>\n",
       "      <th>HelpfulnessDenominator</th>\n",
       "      <th>Score</th>\n",
       "      <th>Time</th>\n",
       "      <th>Summary</th>\n",
       "      <th>Text</th>\n",
       "    </tr>\n",
       "  </thead>\n",
       "  <tbody>\n",
       "    <tr>\n",
       "      <th>0</th>\n",
       "      <td>1</td>\n",
       "      <td>B001E4KFG0</td>\n",
       "      <td>A3SGXH7AUHU8GW</td>\n",
       "      <td>delmartian</td>\n",
       "      <td>1</td>\n",
       "      <td>1</td>\n",
       "      <td>1</td>\n",
       "      <td>1303862400</td>\n",
       "      <td>Good Quality Dog Food</td>\n",
       "      <td>I have bought several of the Vitality canned d...</td>\n",
       "    </tr>\n",
       "    <tr>\n",
       "      <th>1</th>\n",
       "      <td>2</td>\n",
       "      <td>B00813GRG4</td>\n",
       "      <td>A1D87F6ZCVE5NK</td>\n",
       "      <td>dll pa</td>\n",
       "      <td>0</td>\n",
       "      <td>0</td>\n",
       "      <td>0</td>\n",
       "      <td>1346976000</td>\n",
       "      <td>Not as Advertised</td>\n",
       "      <td>Product arrived labeled as Jumbo Salted Peanut...</td>\n",
       "    </tr>\n",
       "    <tr>\n",
       "      <th>2</th>\n",
       "      <td>3</td>\n",
       "      <td>B000LQOCH0</td>\n",
       "      <td>ABXLMWJIXXAIN</td>\n",
       "      <td>Natalia Corres \"Natalia Corres\"</td>\n",
       "      <td>1</td>\n",
       "      <td>1</td>\n",
       "      <td>1</td>\n",
       "      <td>1219017600</td>\n",
       "      <td>\"Delight\" says it all</td>\n",
       "      <td>This is a confection that has been around a fe...</td>\n",
       "    </tr>\n",
       "  </tbody>\n",
       "</table>\n",
       "</div>"
      ],
      "text/plain": [
       "   Id   ProductId          UserId                      ProfileName  \\\n",
       "0   1  B001E4KFG0  A3SGXH7AUHU8GW                       delmartian   \n",
       "1   2  B00813GRG4  A1D87F6ZCVE5NK                           dll pa   \n",
       "2   3  B000LQOCH0   ABXLMWJIXXAIN  Natalia Corres \"Natalia Corres\"   \n",
       "\n",
       "   HelpfulnessNumerator  HelpfulnessDenominator  Score        Time  \\\n",
       "0                     1                       1      1  1303862400   \n",
       "1                     0                       0      0  1346976000   \n",
       "2                     1                       1      1  1219017600   \n",
       "\n",
       "                 Summary                                               Text  \n",
       "0  Good Quality Dog Food  I have bought several of the Vitality canned d...  \n",
       "1      Not as Advertised  Product arrived labeled as Jumbo Salted Peanut...  \n",
       "2  \"Delight\" says it all  This is a confection that has been around a fe...  "
      ]
     },
     "execution_count": 2,
     "metadata": {},
     "output_type": "execute_result"
    }
   ],
   "source": [
    "\n",
    "# using the SQLite Table to read data.\n",
    "con = sqlite3.connect('database.sqlite') \n",
    "#filtering only positive and negative reviews i.e. \n",
    "# not taking into consideration those reviews with Score=3\n",
    "filtered_data = pd.read_sql_query(\"\"\" SELECT * FROM Reviews WHERE Score != 3 \"\"\", con) \n",
    "\n",
    "\n",
    "# Give reviews with Score>3 a positive rating, and reviews with a score<3 a negative rating.\n",
    "def partition(x):\n",
    "    if x < 3:\n",
    "        return 0\n",
    "    return 1\n",
    "\n",
    "#changing reviews with score less than 3 to be positive and vice-versa\n",
    "actualScore = filtered_data['Score']\n",
    "positiveNegative = actualScore.map(partition) \n",
    "filtered_data['Score'] = positiveNegative\n",
    "print(\"Number of data points in our data\", filtered_data.shape)\n",
    "filtered_data.head(3)"
   ]
  },
  {
   "cell_type": "code",
   "execution_count": 3,
   "metadata": {
    "ExecuteTime": {
     "end_time": "2019-03-31T20:40:19.602527Z",
     "start_time": "2019-03-31T20:40:19.590537Z"
    }
   },
   "outputs": [],
   "source": [
    "sample_data = filtered_data.head(50000) #Sampled amazon fine foood reviews filtered data to 50k datapoints for time effiecieny"
   ]
  },
  {
   "cell_type": "markdown",
   "metadata": {
    "colab_type": "text",
    "id": "CF7NMcGnMQvX"
   },
   "source": [
    "# Exploratory Data Analysis\n",
    "\n",
    "## Data Cleaning: Deduplication\n",
    "\n",
    "It is observed (as shown in the table below) that the reviews data had many duplicate entries. Hence it was necessary to remove duplicates in order to get unbiased results for the analysis of the data.  Following is an example:"
   ]
  },
  {
   "cell_type": "code",
   "execution_count": 4,
   "metadata": {
    "ExecuteTime": {
     "end_time": "2019-03-31T20:40:22.261459Z",
     "start_time": "2019-03-31T20:40:19.742492Z"
    },
    "colab": {},
    "colab_type": "code",
    "id": "_G5KBj5FMQvY",
    "scrolled": false
   },
   "outputs": [
    {
     "data": {
      "text/html": [
       "<div>\n",
       "<style scoped>\n",
       "    .dataframe tbody tr th:only-of-type {\n",
       "        vertical-align: middle;\n",
       "    }\n",
       "\n",
       "    .dataframe tbody tr th {\n",
       "        vertical-align: top;\n",
       "    }\n",
       "\n",
       "    .dataframe thead th {\n",
       "        text-align: right;\n",
       "    }\n",
       "</style>\n",
       "<table border=\"1\" class=\"dataframe\">\n",
       "  <thead>\n",
       "    <tr style=\"text-align: right;\">\n",
       "      <th></th>\n",
       "      <th>Id</th>\n",
       "      <th>ProductId</th>\n",
       "      <th>UserId</th>\n",
       "      <th>ProfileName</th>\n",
       "      <th>HelpfulnessNumerator</th>\n",
       "      <th>HelpfulnessDenominator</th>\n",
       "      <th>Score</th>\n",
       "      <th>Time</th>\n",
       "      <th>Summary</th>\n",
       "      <th>Text</th>\n",
       "    </tr>\n",
       "  </thead>\n",
       "  <tbody>\n",
       "    <tr>\n",
       "      <th>0</th>\n",
       "      <td>78445</td>\n",
       "      <td>B000HDL1RQ</td>\n",
       "      <td>AR5J8UI46CURR</td>\n",
       "      <td>Geetha Krishnan</td>\n",
       "      <td>2</td>\n",
       "      <td>2</td>\n",
       "      <td>5</td>\n",
       "      <td>1199577600</td>\n",
       "      <td>LOACKER QUADRATINI VANILLA WAFERS</td>\n",
       "      <td>DELICIOUS WAFERS. I FIND THAT EUROPEAN WAFERS ...</td>\n",
       "    </tr>\n",
       "    <tr>\n",
       "      <th>1</th>\n",
       "      <td>138317</td>\n",
       "      <td>B000HDOPYC</td>\n",
       "      <td>AR5J8UI46CURR</td>\n",
       "      <td>Geetha Krishnan</td>\n",
       "      <td>2</td>\n",
       "      <td>2</td>\n",
       "      <td>5</td>\n",
       "      <td>1199577600</td>\n",
       "      <td>LOACKER QUADRATINI VANILLA WAFERS</td>\n",
       "      <td>DELICIOUS WAFERS. I FIND THAT EUROPEAN WAFERS ...</td>\n",
       "    </tr>\n",
       "    <tr>\n",
       "      <th>2</th>\n",
       "      <td>138277</td>\n",
       "      <td>B000HDOPYM</td>\n",
       "      <td>AR5J8UI46CURR</td>\n",
       "      <td>Geetha Krishnan</td>\n",
       "      <td>2</td>\n",
       "      <td>2</td>\n",
       "      <td>5</td>\n",
       "      <td>1199577600</td>\n",
       "      <td>LOACKER QUADRATINI VANILLA WAFERS</td>\n",
       "      <td>DELICIOUS WAFERS. I FIND THAT EUROPEAN WAFERS ...</td>\n",
       "    </tr>\n",
       "    <tr>\n",
       "      <th>3</th>\n",
       "      <td>73791</td>\n",
       "      <td>B000HDOPZG</td>\n",
       "      <td>AR5J8UI46CURR</td>\n",
       "      <td>Geetha Krishnan</td>\n",
       "      <td>2</td>\n",
       "      <td>2</td>\n",
       "      <td>5</td>\n",
       "      <td>1199577600</td>\n",
       "      <td>LOACKER QUADRATINI VANILLA WAFERS</td>\n",
       "      <td>DELICIOUS WAFERS. I FIND THAT EUROPEAN WAFERS ...</td>\n",
       "    </tr>\n",
       "    <tr>\n",
       "      <th>4</th>\n",
       "      <td>155049</td>\n",
       "      <td>B000PAQ75C</td>\n",
       "      <td>AR5J8UI46CURR</td>\n",
       "      <td>Geetha Krishnan</td>\n",
       "      <td>2</td>\n",
       "      <td>2</td>\n",
       "      <td>5</td>\n",
       "      <td>1199577600</td>\n",
       "      <td>LOACKER QUADRATINI VANILLA WAFERS</td>\n",
       "      <td>DELICIOUS WAFERS. I FIND THAT EUROPEAN WAFERS ...</td>\n",
       "    </tr>\n",
       "  </tbody>\n",
       "</table>\n",
       "</div>"
      ],
      "text/plain": [
       "       Id   ProductId         UserId      ProfileName  HelpfulnessNumerator  \\\n",
       "0   78445  B000HDL1RQ  AR5J8UI46CURR  Geetha Krishnan                     2   \n",
       "1  138317  B000HDOPYC  AR5J8UI46CURR  Geetha Krishnan                     2   \n",
       "2  138277  B000HDOPYM  AR5J8UI46CURR  Geetha Krishnan                     2   \n",
       "3   73791  B000HDOPZG  AR5J8UI46CURR  Geetha Krishnan                     2   \n",
       "4  155049  B000PAQ75C  AR5J8UI46CURR  Geetha Krishnan                     2   \n",
       "\n",
       "   HelpfulnessDenominator  Score        Time  \\\n",
       "0                       2      5  1199577600   \n",
       "1                       2      5  1199577600   \n",
       "2                       2      5  1199577600   \n",
       "3                       2      5  1199577600   \n",
       "4                       2      5  1199577600   \n",
       "\n",
       "                             Summary  \\\n",
       "0  LOACKER QUADRATINI VANILLA WAFERS   \n",
       "1  LOACKER QUADRATINI VANILLA WAFERS   \n",
       "2  LOACKER QUADRATINI VANILLA WAFERS   \n",
       "3  LOACKER QUADRATINI VANILLA WAFERS   \n",
       "4  LOACKER QUADRATINI VANILLA WAFERS   \n",
       "\n",
       "                                                Text  \n",
       "0  DELICIOUS WAFERS. I FIND THAT EUROPEAN WAFERS ...  \n",
       "1  DELICIOUS WAFERS. I FIND THAT EUROPEAN WAFERS ...  \n",
       "2  DELICIOUS WAFERS. I FIND THAT EUROPEAN WAFERS ...  \n",
       "3  DELICIOUS WAFERS. I FIND THAT EUROPEAN WAFERS ...  \n",
       "4  DELICIOUS WAFERS. I FIND THAT EUROPEAN WAFERS ...  "
      ]
     },
     "execution_count": 4,
     "metadata": {},
     "output_type": "execute_result"
    }
   ],
   "source": [
    "display= pd.read_sql_query(\"\"\"\n",
    "SELECT *\n",
    "FROM Reviews\n",
    "WHERE Score != 3 AND UserId=\"AR5J8UI46CURR\"\n",
    "ORDER BY ProductID\n",
    "\"\"\", con)\n",
    "display.head()"
   ]
  },
  {
   "cell_type": "markdown",
   "metadata": {
    "colab_type": "text",
    "id": "95Aa3bAYMQvb"
   },
   "source": [
    "As can be seen above the same user has multiple reviews of the with the same values for HelpfulnessNumerator, HelpfulnessDenominator, Score, Time, Summary and Text  and on doing analysis it was found that <br>\n",
    "<br> \n",
    "ProductId=B000HDOPZG was Loacker Quadratini Vanilla Wafer Cookies, 8.82-Ounce Packages (Pack of 8)<br>\n",
    "<br> \n",
    "ProductId=B000HDL1RQ was Loacker Quadratini Lemon Wafer Cookies, 8.82-Ounce Packages (Pack of 8) and so on<br>\n",
    "\n",
    "It was inferred after analysis that reviews with same parameters other than ProductId belonged to the same product just having different flavour or quantity. Hence in order to reduce redundancy it was decided to eliminate the rows having same parameters.<br>\n",
    "\n",
    "The method used for the same was that we first sort the data according to ProductId and then just keep the first similar product review and delelte the others. for eg. in the above just the review for ProductId=B000HDL1RQ remains. This method ensures that there is only one representative for each product and deduplication without sorting would lead to possibility of different representatives still existing for the same product."
   ]
  },
  {
   "cell_type": "code",
   "execution_count": 5,
   "metadata": {
    "ExecuteTime": {
     "end_time": "2019-03-31T20:40:22.600147Z",
     "start_time": "2019-03-31T20:40:22.408194Z"
    },
    "colab": {},
    "colab_type": "code",
    "id": "0wUj2BDzMQvc"
   },
   "outputs": [],
   "source": [
    "#Sorting data according to ProductId in ascending order\n",
    "sorted_data=sample_data.sort_values('ProductId', axis=0, ascending=True, inplace=False, kind='quicksort', na_position='last')"
   ]
  },
  {
   "cell_type": "code",
   "execution_count": 6,
   "metadata": {
    "ExecuteTime": {
     "end_time": "2019-03-31T20:40:23.114550Z",
     "start_time": "2019-03-31T20:40:22.772104Z"
    },
    "colab": {},
    "colab_type": "code",
    "id": "hYd69x4KMQve"
   },
   "outputs": [
    {
     "data": {
      "text/plain": [
       "(46072, 10)"
      ]
     },
     "execution_count": 6,
     "metadata": {},
     "output_type": "execute_result"
    }
   ],
   "source": [
    "#Deduplication of entries\n",
    "final=sorted_data.drop_duplicates(subset={\"UserId\",\"ProfileName\",\"Time\",\"Text\"}, keep='first', inplace=False)\n",
    "final.shape"
   ]
  },
  {
   "cell_type": "code",
   "execution_count": 7,
   "metadata": {
    "ExecuteTime": {
     "end_time": "2019-03-31T20:40:23.362490Z",
     "start_time": "2019-03-31T20:40:23.350491Z"
    },
    "colab": {},
    "colab_type": "code",
    "id": "_UVH2UNwMQvi"
   },
   "outputs": [
    {
     "data": {
      "text/plain": [
       "92.144"
      ]
     },
     "execution_count": 7,
     "metadata": {},
     "output_type": "execute_result"
    }
   ],
   "source": [
    "#Checking to see how much % of data still remains\n",
    "(final['Id'].size*1.0)/(sample_data['Id'].size*1.0)*100"
   ]
  },
  {
   "cell_type": "markdown",
   "metadata": {
    "colab_type": "text",
    "id": "GeOy9IcuMQvk"
   },
   "source": [
    "<b>Observation:-</b> It was also seen that in two rows given below the value of HelpfulnessNumerator is greater than HelpfulnessDenominator which is not practically possible hence these two rows too are removed from calcualtions"
   ]
  },
  {
   "cell_type": "code",
   "execution_count": 8,
   "metadata": {
    "ExecuteTime": {
     "end_time": "2019-03-31T20:40:26.895901Z",
     "start_time": "2019-03-31T20:40:26.863908Z"
    },
    "colab": {},
    "colab_type": "code",
    "id": "EDD5FsuGMQvm"
   },
   "outputs": [
    {
     "data": {
      "text/html": [
       "<div>\n",
       "<style scoped>\n",
       "    .dataframe tbody tr th:only-of-type {\n",
       "        vertical-align: middle;\n",
       "    }\n",
       "\n",
       "    .dataframe tbody tr th {\n",
       "        vertical-align: top;\n",
       "    }\n",
       "\n",
       "    .dataframe thead th {\n",
       "        text-align: right;\n",
       "    }\n",
       "</style>\n",
       "<table border=\"1\" class=\"dataframe\">\n",
       "  <thead>\n",
       "    <tr style=\"text-align: right;\">\n",
       "      <th></th>\n",
       "      <th>Id</th>\n",
       "      <th>ProductId</th>\n",
       "      <th>UserId</th>\n",
       "      <th>ProfileName</th>\n",
       "      <th>HelpfulnessNumerator</th>\n",
       "      <th>HelpfulnessDenominator</th>\n",
       "      <th>Score</th>\n",
       "      <th>Time</th>\n",
       "      <th>Summary</th>\n",
       "      <th>Text</th>\n",
       "    </tr>\n",
       "  </thead>\n",
       "  <tbody>\n",
       "    <tr>\n",
       "      <th>0</th>\n",
       "      <td>64422</td>\n",
       "      <td>B000MIDROQ</td>\n",
       "      <td>A161DK06JJMCYF</td>\n",
       "      <td>J. E. Stephens \"Jeanne\"</td>\n",
       "      <td>3</td>\n",
       "      <td>1</td>\n",
       "      <td>5</td>\n",
       "      <td>1224892800</td>\n",
       "      <td>Bought This for My Son at College</td>\n",
       "      <td>My son loves spaghetti so I didn't hesitate or...</td>\n",
       "    </tr>\n",
       "    <tr>\n",
       "      <th>1</th>\n",
       "      <td>44737</td>\n",
       "      <td>B001EQ55RW</td>\n",
       "      <td>A2V0I904FH7ABY</td>\n",
       "      <td>Ram</td>\n",
       "      <td>3</td>\n",
       "      <td>2</td>\n",
       "      <td>4</td>\n",
       "      <td>1212883200</td>\n",
       "      <td>Pure cocoa taste with crunchy almonds inside</td>\n",
       "      <td>It was almost a 'love at first bite' - the per...</td>\n",
       "    </tr>\n",
       "  </tbody>\n",
       "</table>\n",
       "</div>"
      ],
      "text/plain": [
       "      Id   ProductId          UserId              ProfileName  \\\n",
       "0  64422  B000MIDROQ  A161DK06JJMCYF  J. E. Stephens \"Jeanne\"   \n",
       "1  44737  B001EQ55RW  A2V0I904FH7ABY                      Ram   \n",
       "\n",
       "   HelpfulnessNumerator  HelpfulnessDenominator  Score        Time  \\\n",
       "0                     3                       1      5  1224892800   \n",
       "1                     3                       2      4  1212883200   \n",
       "\n",
       "                                        Summary  \\\n",
       "0             Bought This for My Son at College   \n",
       "1  Pure cocoa taste with crunchy almonds inside   \n",
       "\n",
       "                                                Text  \n",
       "0  My son loves spaghetti so I didn't hesitate or...  \n",
       "1  It was almost a 'love at first bite' - the per...  "
      ]
     },
     "execution_count": 8,
     "metadata": {},
     "output_type": "execute_result"
    }
   ],
   "source": [
    "display= pd.read_sql_query(\"\"\"\n",
    "SELECT *\n",
    "FROM Reviews\n",
    "WHERE Score != 3 AND Id=44737 OR Id=64422\n",
    "ORDER BY ProductID\n",
    "\"\"\", con)\n",
    "\n",
    "display.head()"
   ]
  },
  {
   "cell_type": "code",
   "execution_count": 9,
   "metadata": {
    "ExecuteTime": {
     "end_time": "2019-03-31T20:40:28.226763Z",
     "start_time": "2019-03-31T20:40:28.182776Z"
    },
    "colab": {},
    "colab_type": "code",
    "id": "kThrWN9FMQvq"
   },
   "outputs": [],
   "source": [
    "final=final[final.HelpfulnessNumerator<=final.HelpfulnessDenominator]"
   ]
  },
  {
   "cell_type": "code",
   "execution_count": 10,
   "metadata": {
    "ExecuteTime": {
     "end_time": "2019-03-31T20:40:28.997704Z",
     "start_time": "2019-03-31T20:40:28.981691Z"
    },
    "colab": {},
    "colab_type": "code",
    "id": "lvw544BEMQvs"
   },
   "outputs": [
    {
     "name": "stdout",
     "output_type": "stream",
     "text": [
      "(46071, 10)\n"
     ]
    },
    {
     "data": {
      "text/plain": [
       "1    38479\n",
       "0     7592\n",
       "Name: Score, dtype: int64"
      ]
     },
     "execution_count": 10,
     "metadata": {},
     "output_type": "execute_result"
    }
   ],
   "source": [
    "#Before starting the next phase of preprocessing lets see the number of entries left\n",
    "print(final.shape)\n",
    "\n",
    "#How many positive and negative reviews are present in our dataset?\n",
    "final['Score'].value_counts()"
   ]
  },
  {
   "cell_type": "markdown",
   "metadata": {
    "colab_type": "text",
    "id": "3-ZDuet8MQvw"
   },
   "source": [
    "## Text Preprocessing: Stemming, stop-word removal and Lemmatization.\n",
    "\n",
    "Now that we have finished deduplication our data requires some preprocessing before we go on further with analysis and making the prediction model.\n",
    "\n",
    "Hence in the Preprocessing phase we do the following in the order below:-\n",
    "\n",
    "1. Begin by removing the html tags\n",
    "2. Remove any punctuations or limited set of special characters like , or . or # etc.\n",
    "3. Check if the word is made up of english letters and is not alpha-numeric\n",
    "4. Check to see if the length of the word is greater than 2 (as it was researched that there is no adjective in 2-letters)\n",
    "5. Convert the word to lowercase\n",
    "6. Remove Stopwords\n",
    "7. Finally Snowball Stemming the word (it was obsereved to be better than Porter Stemming)<br>\n",
    "\n",
    "After which we collect the words used to describe positive and negative reviews"
   ]
  },
  {
   "cell_type": "code",
   "execution_count": 11,
   "metadata": {
    "ExecuteTime": {
     "end_time": "2019-03-31T20:40:30.504557Z",
     "start_time": "2019-03-31T20:40:30.492560Z"
    },
    "colab": {},
    "colab_type": "code",
    "id": "I2NRwIj6MQvz"
   },
   "outputs": [
    {
     "name": "stdout",
     "output_type": "stream",
     "text": [
      "2\n",
      "Why is this $[...] when the same product is available for $[...] here?<br />http://www.amazon.com/VICTOR-FLY-MAGNET-BAIT-REFILL/dp/B00004RBDY<br /><br />The Victor M380 and M502 traps are unreal, of course -- total fly genocide. Pretty stinky, but only right nearby.\n"
     ]
    }
   ],
   "source": [
    "# find sentences containing HTML tags\n",
    "import re\n",
    "i=0;\n",
    "for sent in final['Text'].values:\n",
    "    if (len(re.findall('<.*?>', sent))):\n",
    "        print(i)\n",
    "        print(sent)\n",
    "        break;\n",
    "    i += 1;"
   ]
  },
  {
   "cell_type": "code",
   "execution_count": 12,
   "metadata": {
    "ExecuteTime": {
     "end_time": "2019-03-31T20:40:31.287739Z",
     "start_time": "2019-03-31T20:40:31.271747Z"
    },
    "colab": {},
    "colab_type": "code",
    "id": "hSYsO2neMQv2"
   },
   "outputs": [
    {
     "name": "stdout",
     "output_type": "stream",
     "text": [
      "{'further', 've', 'needn', 'out', 'only', 'ma', \"that'll\", \"mightn't\", 'any', 'ourselves', 'yourself', 'hasn', 'other', 'from', 'just', 'once', 'themselves', 'of', 'to', \"weren't\", 'while', \"wouldn't\", 'haven', \"aren't\", 'how', 't', 'wasn', 'having', 'as', 'won', 'been', 'had', 'hadn', 'during', 'm', 'mustn', 'its', 'are', 'yours', 'our', 'll', 'mightn', 'a', 'ain', 'me', 'no', 'very', 'up', 'his', 'shan', \"needn't\", 'i', \"shouldn't\", 'couldn', 'shouldn', 'we', 'then', \"mustn't\", 'against', 'more', 'or', 'by', 'for', 'but', 'until', \"wasn't\", 'most', 'aren', 'with', 'didn', 'your', 'herself', 'over', 'own', 'off', 'an', 'they', 'can', 'few', 'below', \"you'll\", 'because', 'down', 'why', 'than', 'don', 'them', 'some', \"don't\", \"couldn't\", 'between', 'isn', 'being', 'there', 'whom', 'on', 'such', \"hasn't\", 'not', \"it's\", \"haven't\", 'have', 'doing', 'is', 'the', 'o', 'was', 'he', 'doesn', 'nor', 'wouldn', 'and', 'same', 'after', 'those', 'that', \"shan't\", 'am', 'yourselves', 'her', 'y', 'itself', 'these', 'through', 'above', \"she's\", 'here', 'do', 'each', \"won't\", 'ours', 'who', 'she', 'hers', 'myself', 'too', 'where', \"hadn't\", 'again', 'what', 'before', 'under', \"doesn't\", 'should', \"didn't\", 'if', 'be', 'my', 'so', 'will', 'it', 'theirs', 'him', 'himself', 'weren', 'you', \"you're\", 'did', \"you'd\", \"isn't\", 'at', 'which', 'in', 'd', 'about', 're', 'were', 'has', 'their', 's', \"you've\", 'now', 'both', 'when', 'all', 'does', 'this', \"should've\", 'into'}\n",
      "************************************\n",
      "tasti\n"
     ]
    }
   ],
   "source": [
    "\n",
    "stop = set(stopwords.words('english')) #set of stopwords\n",
    "sno = nltk.stem.SnowballStemmer('english') #initialising the snowball stemmer\n",
    "\n",
    "def cleanhtml(sentence): #function to clean the word of any html-tags\n",
    "    cleanr = re.compile('<.*?>')\n",
    "    cleantext = re.sub(cleanr, ' ', sentence)\n",
    "    return cleantext\n",
    "def cleanpunc(sentence): #function to clean the word of any punctuation or special characters\n",
    "    cleaned = re.sub(r'[?|!|\\'|\"|#]',r'',sentence)\n",
    "    cleaned = re.sub(r'[.|,|)|(|\\|/]',r' ',cleaned)\n",
    "    return  cleaned\n",
    "print(stop)\n",
    "print('************************************')\n",
    "print(sno.stem('tasty'))"
   ]
  },
  {
   "cell_type": "code",
   "execution_count": 13,
   "metadata": {
    "ExecuteTime": {
     "end_time": "2019-03-31T20:40:32.075682Z",
     "start_time": "2019-03-31T20:40:32.059686Z"
    },
    "colab": {},
    "colab_type": "code",
    "id": "BUGzVaKbMQv5"
   },
   "outputs": [],
   "source": [
    "#Code for implementing step-by-step the checks mentioned in the pre-processing phase\n",
    "# this code takes a while to run as it needs to run on 500k sentences.\n",
    "if not os.path.isfile('final.sqlite'):\n",
    "    final_string=[]\n",
    "    all_positive_words=[] # store words from +ve reviews here\n",
    "    all_negative_words=[] # store words from -ve reviews here.\n",
    "    for i, sent in enumerate(tqdm(final['Text'].values)):\n",
    "        filtered_sentence=[]\n",
    "        #print(sent);\n",
    "        sent=cleanhtml(sent) # remove HTMl tags\n",
    "        for w in sent.split():\n",
    "            # we have used cleanpunc(w).split(), one more split function here because consider w=\"abc.def\", cleanpunc(w) will return \"abc def\"\n",
    "            # if we dont use .split() function then we will be considring \"abc def\" as a single word, but if you use .split() function we will get \"abc\", \"def\"\n",
    "            for cleaned_words in cleanpunc(w).split():\n",
    "                if((cleaned_words.isalpha()) & (len(cleaned_words)>2)):    \n",
    "                    if(cleaned_words.lower() not in stop):\n",
    "                        s=(sno.stem(cleaned_words.lower())).encode('utf8') #snoball stemmer\n",
    "                        filtered_sentence.append(s)\n",
    "                        if (final['Score'].values)[i] == 1: \n",
    "                            all_positive_words.append(s) #list of all words used to describe positive reviews\n",
    "                        if(final['Score'].values)[i] == 0:\n",
    "                            all_negative_words.append(s) #list of all words used to describe negative reviews reviews\n",
    "        str1 = b\" \".join(filtered_sentence) #final string of cleaned words\n",
    "        #print(\"***********************************************************************\")\n",
    "        final_string.append(str1)\n",
    "\n",
    "    #############---- storing the data into .sqlite file ------########################\n",
    "    final['CleanedText']=final_string #adding a column of CleanedText which displays the data after pre-processing of the review \n",
    "    final['CleanedText']=final['CleanedText'].str.decode(\"utf-8\")\n",
    "        # store final table into an SQlLite table for future.\n",
    "    conn = sqlite3.connect('final.sqlite')\n",
    "    c=conn.cursor()\n",
    "    conn.text_factory = str\n",
    "    final.to_sql('Reviews', conn,  schema=None, if_exists='replace', \\\n",
    "                 index=True, index_label=None, chunksize=None, dtype=None)\n",
    "    conn.close()\n",
    "    \n",
    "    \n",
    "    with open('positive_words.pkl', 'wb') as f: # 'wb' instead 'w' for binary file\n",
    "        pickle.dump(all_positive_words, f)      # dump data to f\n",
    "    with open('negitive_words.pkl', 'wb') as f: # 'wb' instead 'w' for binary file\n",
    "        pickle.dump(all_negative_words, f)      # dump data to f"
   ]
  },
  {
   "cell_type": "code",
   "execution_count": 14,
   "metadata": {
    "ExecuteTime": {
     "end_time": "2019-03-31T20:40:33.710915Z",
     "start_time": "2019-03-31T20:40:32.759491Z"
    },
    "colab": {},
    "colab_type": "code",
    "id": "bU88yTG9MQv-",
    "scrolled": false
   },
   "outputs": [],
   "source": [
    "if os.path.isfile('final.sqlite'):\n",
    "    conn = sqlite3.connect('final.sqlite')\n",
    "    final = pd.read_sql_query(\"\"\" SELECT * FROM Reviews WHERE Score != 3 \"\"\", conn)\n",
    "    conn.close()\n",
    "else:\n",
    "    print(\"Please the above cell\")"
   ]
  },
  {
   "cell_type": "markdown",
   "metadata": {},
   "source": [
    "### Sorting dataset based on 'Time' feature"
   ]
  },
  {
   "cell_type": "code",
   "execution_count": 15,
   "metadata": {
    "ExecuteTime": {
     "end_time": "2019-03-31T20:40:34.356456Z",
     "start_time": "2019-03-31T20:40:34.296454Z"
    }
   },
   "outputs": [
    {
     "data": {
      "text/plain": [
       "(46071, 12)"
      ]
     },
     "execution_count": 15,
     "metadata": {},
     "output_type": "execute_result"
    }
   ],
   "source": [
    "final_reviews = final.sort_values('Time', axis=0, ascending=True, inplace=False, kind='quicksort', na_position='last')\n",
    "final_reviews.shape"
   ]
  },
  {
   "cell_type": "markdown",
   "metadata": {},
   "source": [
    "### Spliting data "
   ]
  },
  {
   "cell_type": "code",
   "execution_count": 16,
   "metadata": {
    "ExecuteTime": {
     "end_time": "2019-03-31T20:40:36.943767Z",
     "start_time": "2019-03-31T20:40:36.891761Z"
    }
   },
   "outputs": [],
   "source": [
    "#split data into train, cross validate and test \n",
    "%matplotlib inline\n",
    "import warnings\n",
    "from sklearn.model_selection import train_test_split\n",
    "X = final_reviews['CleanedText']\n",
    "Y = final_reviews['Score']\n",
    "X_train, X_test, Y_train, Y_test = train_test_split(X, Y, test_size=.33, random_state=0)\n",
    "X_tr, X_cv, Y_tr, Y_cv = train_test_split(X_train, Y_train, test_size=.33, random_state=0)"
   ]
  },
  {
   "cell_type": "code",
   "execution_count": 17,
   "metadata": {
    "ExecuteTime": {
     "end_time": "2019-03-31T20:40:37.685315Z",
     "start_time": "2019-03-31T20:40:37.657324Z"
    }
   },
   "outputs": [
    {
     "name": "stdout",
     "output_type": "stream",
     "text": [
      "X_train, Y_train (30867,) (30867,)\n",
      "X_test, Y_test (15204,) (15204,)\n",
      "X_tr, Y_tr (20680,) (20680,)\n",
      "X_cv, Y_cv (10187,) (10187,)\n"
     ]
    }
   ],
   "source": [
    "print('X_train, Y_train', X_train.shape, Y_train.shape)\n",
    "print('X_test, Y_test', X_test.shape, Y_test.shape)\n",
    "print('X_tr, Y_tr', X_tr.shape, Y_tr.shape)\n",
    "print('X_cv, Y_cv', X_cv.shape, Y_cv.shape)"
   ]
  },
  {
   "cell_type": "markdown",
   "metadata": {},
   "source": [
    "# Decision Tree Classifier with simple CV"
   ]
  },
  {
   "cell_type": "code",
   "execution_count": 18,
   "metadata": {
    "ExecuteTime": {
     "end_time": "2019-03-31T20:40:39.127884Z",
     "start_time": "2019-03-31T20:40:39.119886Z"
    }
   },
   "outputs": [],
   "source": [
    "%matplotlib inline\n",
    "import warnings\n",
    "warnings.filterwarnings(\"ignore\")\n",
    "from sklearn.model_selection import cross_val_score\n",
    "from collections import Counter\n",
    "from sklearn.metrics import accuracy_score\n",
    "from sklearn import model_selection\n",
    "from sklearn.metrics import f1_score\n",
    "from sklearn.metrics import roc_auc_score"
   ]
  },
  {
   "cell_type": "markdown",
   "metadata": {},
   "source": [
    "## Training Model"
   ]
  },
  {
   "cell_type": "code",
   "execution_count": 19,
   "metadata": {
    "ExecuteTime": {
     "end_time": "2019-03-31T20:40:40.494987Z",
     "start_time": "2019-03-31T20:40:40.470981Z"
    }
   },
   "outputs": [],
   "source": [
    "from sklearn.tree import DecisionTreeClassifier\n",
    "# Decision Tree\n",
    "def DT_Classifier(X_train,X_cv,Y_train,Y_cv):\n",
    "    pred_cv = []\n",
    "    pred_train = []\n",
    "    depth = [1, 5, 10, 50, 100, 500, 1000]\n",
    "    samples_split = [5, 10, 100, 500] \n",
    "    for i in depth:\n",
    "        for j in samples_split:\n",
    "            clf = DecisionTreeClassifier(max_depth = i, min_samples_split = j)\n",
    "            clf.fit(X_train,Y_train)\n",
    "            probs = clf.predict_proba(X_cv)\n",
    "            prob = clf.predict_proba(X_train)\n",
    "            probs = probs[:,1]\n",
    "            prob = prob[:,1]\n",
    "            auc_score_cv = roc_auc_score(Y_cv,probs)\n",
    "            auc_score_train = roc_auc_score(Y_train,prob)\n",
    "            pred_cv.append(auc_score_cv)\n",
    "            pred_train.append(auc_score_train)\n",
    "    cmap=sns.light_palette(\"green\")\n",
    "    # representing heat map for auc score\n",
    "    print(\"-\"*30, \"AUC Score for train data\", \"-\"*30)\n",
    "    pred_train = np.array(pred_train)\n",
    "    pred_train = pred_train.reshape(len(depth),len(samples_split))\n",
    "    plt.figure(figsize=(10,5))\n",
    "    sns.heatmap(pred_train,annot=True, cmap=cmap, fmt=\".3f\", xticklabels=samples_split,yticklabels=depth)\n",
    "    plt.xlabel('Sample Split')\n",
    "    plt.ylabel('Depth')\n",
    "    plt.show()\n",
    "    print(\"-\"*30, \"AUC Score for CV data\", \"-\"*30)\n",
    "    pred_cv = np.array(pred_cv)\n",
    "    pred_cv = pred_cv.reshape(len(depth),len(samples_split))\n",
    "    plt.figure(figsize=(10,5))\n",
    "    sns.heatmap(pred_cv, annot=True, cmap=cmap, fmt=\".3f\", xticklabels=samples_split, yticklabels=depth)\n",
    "    plt.xlabel('Sample Split')\n",
    "    plt.ylabel('Depth')\n",
    "    plt.show()    "
   ]
  },
  {
   "cell_type": "code",
   "execution_count": 20,
   "metadata": {},
   "outputs": [
    {
     "name": "stdout",
     "output_type": "stream",
     "text": [
      "Requirement already satisfied: scikit-plot in c:\\users\\dss7884\\appdata\\local\\continuum\\anaconda3\\lib\\site-packages (0.3.7)\n",
      "Requirement already satisfied: scipy>=0.9 in c:\\users\\dss7884\\appdata\\local\\continuum\\anaconda3\\lib\\site-packages (from scikit-plot) (1.2.0)\n",
      "Requirement already satisfied: joblib>=0.10 in c:\\users\\dss7884\\appdata\\local\\continuum\\anaconda3\\lib\\site-packages (from scikit-plot) (0.13.2)\n",
      "Requirement already satisfied: scikit-learn>=0.18 in c:\\users\\dss7884\\appdata\\local\\continuum\\anaconda3\\lib\\site-packages (from scikit-plot) (0.24.0)\n",
      "Requirement already satisfied: matplotlib>=1.4.0 in c:\\users\\dss7884\\appdata\\local\\continuum\\anaconda3\\lib\\site-packages (from scikit-plot) (3.0.2)\n",
      "Requirement already satisfied: numpy>=1.10.0 in c:\\users\\dss7884\\appdata\\local\\continuum\\anaconda3\\lib\\site-packages (from matplotlib>=1.4.0->scikit-plot) (1.16.6)\n",
      "Requirement already satisfied: cycler>=0.10 in c:\\users\\dss7884\\appdata\\local\\continuum\\anaconda3\\lib\\site-packages (from matplotlib>=1.4.0->scikit-plot) (0.10.0)\n",
      "Requirement already satisfied: kiwisolver>=1.0.1 in c:\\users\\dss7884\\appdata\\local\\continuum\\anaconda3\\lib\\site-packages (from matplotlib>=1.4.0->scikit-plot) (1.0.1)\n",
      "Requirement already satisfied: pyparsing!=2.0.4,!=2.1.2,!=2.1.6,>=2.0.1 in c:\\users\\dss7884\\appdata\\local\\continuum\\anaconda3\\lib\\site-packages (from matplotlib>=1.4.0->scikit-plot) (2.3.0)\n",
      "Requirement already satisfied: python-dateutil>=2.1 in c:\\users\\dss7884\\appdata\\local\\continuum\\anaconda3\\lib\\site-packages (from matplotlib>=1.4.0->scikit-plot) (2.8.1)\n",
      "Requirement already satisfied: six in c:\\users\\dss7884\\appdata\\local\\continuum\\anaconda3\\lib\\site-packages (from cycler>=0.10->matplotlib>=1.4.0->scikit-plot) (1.15.0)\n",
      "Requirement already satisfied: setuptools in c:\\users\\dss7884\\appdata\\local\\continuum\\anaconda3\\lib\\site-packages (from kiwisolver>=1.0.1->matplotlib>=1.4.0->scikit-plot) (51.1.2)\n",
      "Requirement already satisfied: threadpoolctl>=2.0.0 in c:\\users\\dss7884\\appdata\\local\\continuum\\anaconda3\\lib\\site-packages (from scikit-learn>=0.18->scikit-plot) (2.1.0)\n"
     ]
    },
    {
     "name": "stderr",
     "output_type": "stream",
     "text": [
      "WARNING: You are using pip version 21.0.1; however, version 21.1.3 is available.\n",
      "You should consider upgrading via the 'c:\\users\\dss7884\\appdata\\local\\continuum\\anaconda3\\python.exe -m pip install --upgrade pip' command.\n"
     ]
    }
   ],
   "source": [
    "!pip install scikit-plot"
   ]
  },
  {
   "cell_type": "markdown",
   "metadata": {},
   "source": [
    "## Testing Model for training data and test data"
   ]
  },
  {
   "cell_type": "code",
   "execution_count": 21,
   "metadata": {
    "ExecuteTime": {
     "end_time": "2019-03-31T20:40:43.660499Z",
     "start_time": "2019-03-31T20:40:43.588516Z"
    }
   },
   "outputs": [],
   "source": [
    "import scikitplot.metrics as skplt\n",
    "def testing(X_train,Y_train,X_test,Y_test,optimal_depth,optimal_split):\n",
    "    clf = DecisionTreeClassifier(max_depth = optimal_depth, min_samples_split = optimal_split)\n",
    "    clf.fit(X_train,Y_train)\n",
    "    prob = clf.predict_proba(X_test) \n",
    "    prob1 = clf.predict_proba(X_train)\n",
    "    # keep probabilities for the positive outcome only\n",
    "    probs = prob[:, 1]\n",
    "    probs1 = prob1[:,1]\n",
    "    print(\"AUC Score for train data\",roc_auc_score(Y_train,probs1))\n",
    "    print(\"AUC Score for test data\",roc_auc_score(Y_test,probs))\n",
    "    # calculate roc curve\n",
    "    fpr_train, tpr_train, thresholds = roc_curve(Y_train,probs1)\n",
    "    fpr_test, tpr_test, thresholds = roc_curve(Y_test,probs)\n",
    "    # plot no skill\n",
    "    plt.plot([0, 1], [0, 1], linestyle='--')\n",
    "    # plot the roc curve for the model\n",
    "    plt.plot(fpr_test, tpr_test, marker='.',color ='b',label='Test Data')\n",
    "    plt.plot(fpr_train, tpr_train, marker='.',color= 'r',label='Train Data')\n",
    "    plt.title(\"Line Plot of ROC Curve on Train Data and Test Data\")\n",
    "    plt.legend(loc='upper left')\n",
    "    plt.ylabel('True Positive Rate')\n",
    "    plt.xlabel('False Positive Rate')    \n",
    "    plt.show\n",
    "    #plot confusion matrix\n",
    "    prediction_test=np.argmax(prob,axis=1)\n",
    "    prediction_train=np.argmax(prob1,axis=1)\n",
    "    print(\"macro f1 score for train data :\",metrics.f1_score(Y_train, prediction_train, average = 'macro'))\n",
    "    print(\"macro f1 score for test data :\",metrics.f1_score(Y_test, prediction_test, average = 'macro'))\n",
    "    print(\"micro f1 score for train data:\",metrics.f1_score(Y_train, prediction_train, average = 'micro'))\n",
    "    print(\"micro f1 score for test data:\",metrics.f1_score(Y_test, prediction_test, average = 'micro'))\n",
    "    print(\"hamming loss for train data:\",metrics.hamming_loss(Y_train,prediction_train))\n",
    "    print(\"hamming loss for test data:\",metrics.hamming_loss(Y_test,prediction_test))\n",
    "    print(\"Precision recall report for train data:\\n\",metrics.classification_report(Y_train, prediction_train))\n",
    "    print(\"Precision recall report for test data:\\n\",metrics.classification_report(Y_test, prediction_test))\n",
    "    skplt.plot_confusion_matrix(Y_train,prediction_train,title='Confusion Matrix for Train Data')\n",
    "    skplt.plot_confusion_matrix(Y_test,prediction_test,title='Confusion Matrix for Test Data')"
   ]
  },
  {
   "cell_type": "markdown",
   "metadata": {},
   "source": [
    "## Top 10 features"
   ]
  },
  {
   "cell_type": "code",
   "execution_count": 22,
   "metadata": {
    "ExecuteTime": {
     "end_time": "2019-04-01T09:37:04.414853Z",
     "start_time": "2019-04-01T09:37:04.402860Z"
    }
   },
   "outputs": [],
   "source": [
    "#Code Reference:https://stackoverflow.com/questions/11116697/how-to-get-most-informative-features-for-scikit-learn-classifiers\n",
    "\n",
    "def imp_feature(vectorizer,classifier, n =20):\n",
    "    feature_names = vectorizer.get_feature_names()\n",
    "    coefs = sorted(zip(classifier.feature_importances_, feature_names))\n",
    "    top = coefs[:-(n + 1):-1]\n",
    "    print('\\033[1m' + \"feature_importances\\tfeatures\" + '\\033[0m')\n",
    "    print(\"=\"*35)\n",
    "    for (coef1, feat1) in top:\n",
    "        print(\"%.4f\\t\\t\\t%-15s\" % (coef1, feat1))"
   ]
  },
  {
   "cell_type": "markdown",
   "metadata": {},
   "source": [
    "# Techniques for vectorization :--"
   ]
  },
  {
   "cell_type": "markdown",
   "metadata": {
    "colab_type": "text",
    "id": "hXA02Hw0MQv_"
   },
   "source": [
    "##  Bag of Words (BoW) "
   ]
  },
  {
   "cell_type": "code",
   "execution_count": 23,
   "metadata": {
    "ExecuteTime": {
     "end_time": "2019-04-01T09:37:19.688181Z",
     "start_time": "2019-04-01T09:37:15.572625Z"
    },
    "colab": {},
    "colab_type": "code",
    "id": "giCwNM_rMQwA"
   },
   "outputs": [
    {
     "name": "stdout",
     "output_type": "stream",
     "text": [
      "The type of count vectorizer  <class 'scipy.sparse.csr.csr_matrix'>\n",
      "The shape of out text BOW vectorizer  (20680, 17391)\n",
      "CV Data Size:  (10187, 17391)\n",
      "Test Data Size:  (15204, 17391)\n"
     ]
    }
   ],
   "source": [
    "#BoW\n",
    "count_vect = CountVectorizer() #in scikit-learn\n",
    "bow_train = count_vect.fit_transform(X_tr)\n",
    "print(\"The type of count vectorizer \",type(bow_train))\n",
    "print(\"The shape of out text BOW vectorizer \",bow_train.get_shape())\n",
    "#print(\"the number of unique words \", final_counts.get_shape()[1])\n",
    "bow_cv = count_vect.transform(X_cv)\n",
    "bow_test = count_vect.transform(X_test)\n",
    "print(\"CV Data Size: \",bow_cv.shape)\n",
    "print(\"Test Data Size: \",bow_test.shape)"
   ]
  },
  {
   "cell_type": "code",
   "execution_count": 24,
   "metadata": {
    "ExecuteTime": {
     "end_time": "2019-04-01T09:37:22.992825Z",
     "start_time": "2019-04-01T09:37:22.832866Z"
    }
   },
   "outputs": [
    {
     "name": "stdout",
     "output_type": "stream",
     "text": [
      "The shape of out text BOW vectorizer  (20680, 17391)\n",
      "CV Data Size:  (10187, 17391)\n",
      "Test Data Size:  (15204, 17391)\n"
     ]
    }
   ],
   "source": [
    "#Normalize Data\n",
    "from sklearn import preprocessing\n",
    "from sklearn.preprocessing import Normalizer\n",
    "normalizer = preprocessing.Normalizer()\n",
    "bow_train = normalizer.fit_transform(bow_train)\n",
    "bow_cv = normalizer.transform(bow_cv)\n",
    "bow_test = normalizer.transform(bow_test)\n",
    "print(\"The shape of out text BOW vectorizer \",bow_train.get_shape())\n",
    "print(\"CV Data Size: \",bow_cv.shape)\n",
    "print(\"Test Data Size: \",bow_test.shape)"
   ]
  },
  {
   "cell_type": "code",
   "execution_count": 25,
   "metadata": {
    "ExecuteTime": {
     "end_time": "2019-03-31T20:46:31.768675Z",
     "start_time": "2019-03-31T20:41:03.826184Z"
    },
    "scrolled": true
   },
   "outputs": [
    {
     "name": "stdout",
     "output_type": "stream",
     "text": [
      "------------------------------ AUC Score for train data ------------------------------\n"
     ]
    },
    {
     "data": {
      "image/png": "[encoded data removed]",
      "text/plain": [
       "<Figure size 720x360 with 2 Axes>"
      ]
     },
     "metadata": {
      "needs_background": "light"
     },
     "output_type": "display_data"
    },
    {
     "name": "stdout",
     "output_type": "stream",
     "text": [
      "------------------------------ AUC Score for CV data ------------------------------\n"
     ]
    },
    {
     "data": {
      "image/png": "[encoded data removed]",
      "text/plain": [
       "<Figure size 720x360 with 2 Axes>"
      ]
     },
     "metadata": {
      "needs_background": "light"
     },
     "output_type": "display_data"
    }
   ],
   "source": [
    "# find optimal depth and optimal split\n",
    "DT_Classifier(bow_train,bow_cv,Y_tr,Y_cv)"
   ]
  },
  {
   "cell_type": "markdown",
   "metadata": {},
   "source": [
    "### Testing on Test data and Training in BoW"
   ]
  },
  {
   "cell_type": "code",
   "execution_count": 26,
   "metadata": {
    "ExecuteTime": {
     "end_time": "2019-04-01T09:37:43.110913Z",
     "start_time": "2019-04-01T09:37:40.287909Z"
    }
   },
   "outputs": [
    {
     "name": "stdout",
     "output_type": "stream",
     "text": [
      "AUC Score for train data 0.7798102314284644\n",
      "AUC Score for test data 0.7473299924045955\n",
      "macro f1 score for train data : 0.6682415953986642\n",
      "macro f1 score for test data : 0.6249259917110717\n",
      "micro f1 score for train data: 0.868375241779497\n",
      "micro f1 score for test data: 0.8516179952644041\n",
      "hamming loss for train data: 0.1316247582205029\n",
      "hamming loss for test data: 0.1483820047355959\n",
      "Precision recall report for train data:\n",
      "               precision    recall  f1-score   support\n",
      "\n",
      "           0       0.80      0.28      0.41      3439\n",
      "           1       0.87      0.99      0.93     17241\n",
      "\n",
      "    accuracy                           0.87     20680\n",
      "   macro avg       0.84      0.63      0.67     20680\n",
      "weighted avg       0.86      0.87      0.84     20680\n",
      "\n",
      "Precision recall report for test data:\n",
      "               precision    recall  f1-score   support\n",
      "\n",
      "           0       0.66      0.22      0.33      2526\n",
      "           1       0.86      0.98      0.92     12678\n",
      "\n",
      "    accuracy                           0.85     15204\n",
      "   macro avg       0.76      0.60      0.62     15204\n",
      "weighted avg       0.83      0.85      0.82     15204\n",
      "\n"
     ]
    },
    {
     "data": {
      "image/png": "[encoded data removed]",
      "text/plain": [
       "<Figure size 432x288 with 1 Axes>"
      ]
     },
     "metadata": {
      "needs_background": "light"
     },
     "output_type": "display_data"
    },
    {
     "data": {
      "image/png": "[encoded data removed]",
      "text/plain": [
       "<Figure size 432x288 with 2 Axes>"
      ]
     },
     "metadata": {
      "needs_background": "light"
     },
     "output_type": "display_data"
    },
    {
     "data": {
      "image/png": "[encoded data removed]",
      "text/plain": [
       "<Figure size 432x288 with 2 Axes>"
      ]
     },
     "metadata": {
      "needs_background": "light"
     },
     "output_type": "display_data"
    }
   ],
   "source": [
    "# optimal_depth and optima_split\n",
    "testing(bow_train,Y_tr,bow_test,Y_test,optimal_depth=10,optimal_split=100)"
   ]
  },
  {
   "cell_type": "code",
   "execution_count": 27,
   "metadata": {
    "ExecuteTime": {
     "end_time": "2019-04-01T09:37:54.266694Z",
     "start_time": "2019-04-01T09:37:52.395877Z"
    }
   },
   "outputs": [
    {
     "name": "stdout",
     "output_type": "stream",
     "text": [
      "\u001b[1mfeature_importances\tfeatures\u001b[0m\n",
      "===================================\n",
      "0.1588\t\t\tdisappoint     \n",
      "0.0947\t\t\treturn         \n",
      "0.0917\t\t\tgreat          \n",
      "0.0859\t\t\tbad            \n",
      "0.0735\t\t\tworst          \n",
      "0.0567\t\t\tlove           \n",
      "0.0456\t\t\twast           \n",
      "0.0450\t\t\tdelici         \n",
      "0.0396\t\t\tbest           \n",
      "0.0368\t\t\taw             \n",
      "0.0180\t\t\tmoney          \n",
      "0.0140\t\t\tterribl        \n",
      "0.0123\t\t\ttast           \n",
      "0.0105\t\t\tthought        \n",
      "0.0095\t\t\thome           \n",
      "0.0095\t\t\twell           \n",
      "0.0092\t\t\tthrew          \n",
      "0.0083\t\t\tchina          \n",
      "0.0081\t\t\thorribl        \n",
      "0.0074\t\t\tstale          \n"
     ]
    }
   ],
   "source": [
    "clf = DecisionTreeClassifier(max_depth = 10, min_samples_split = 100)\n",
    "clf.fit(bow_train,Y_tr)\n",
    "imp_feature(count_vect,clf)"
   ]
  },
  {
   "cell_type": "markdown",
   "metadata": {},
   "source": [
    "###  Visualize decision tree with Graphviz on BoW "
   ]
  },
  {
   "cell_type": "code",
   "execution_count": 28,
   "metadata": {
    "ExecuteTime": {
     "end_time": "2019-04-01T09:38:07.019978Z",
     "start_time": "2019-04-01T09:38:04.118918Z"
    },
    "scrolled": true
   },
   "outputs": [
    {
     "data": {
      "image/svg+xml": [
       "<?xml version=\"1.0\" encoding=\"UTF-8\" standalone=\"no\"?>\r\n",
       "<!DOCTYPE svg PUBLIC \"-//W3C//DTD SVG 1.1//EN\"\r\n",
       " \"http://www.w3.org/Graphics/SVG/1.1/DTD/svg11.dtd\">\r\n",
       "<!-- Generated by graphviz version 2.38.0 (20140413.2041)\r\n",
       " -->\r\n",
       "<!-- Title: Tree Pages: 1 -->\r\n",
       "<svg width=\"537pt\" height=\"356pt\"\r\n",
       " viewBox=\"0.00 0.00 537.00 356.00\" xmlns=\"http://www.w3.org/2000/svg\" xmlns:xlink=\"http://www.w3.org/1999/xlink\">\r\n",
       "<g id=\"graph0\" class=\"graph\" transform=\"scale(1 1) rotate(0) translate(4 352)\">\r\n",
       "<title>Tree</title>\r\n",
       "<polygon fill=\"white\" stroke=\"none\" points=\"-4,4 -4,-352 533,-352 533,4 -4,4\"/>\r\n",
       "<!-- 0 -->\r\n",
       "<g id=\"node1\" class=\"node\"><title>0</title>\r\n",
       "<polygon fill=\"none\" stroke=\"black\" points=\"351,-348 213,-348 213,-280 351,-280 351,-348\"/>\r\n",
       "<text text-anchor=\"middle\" x=\"282\" y=\"-332.8\" font-family=\"Times New Roman,serif\" font-size=\"14.00\">disappoint &lt;= 0.082</text>\r\n",
       "<text text-anchor=\"middle\" x=\"282\" y=\"-317.8\" font-family=\"Times New Roman,serif\" font-size=\"14.00\">gini = 0.277</text>\r\n",
       "<text text-anchor=\"middle\" x=\"282\" y=\"-302.8\" font-family=\"Times New Roman,serif\" font-size=\"14.00\">samples = 20680</text>\r\n",
       "<text text-anchor=\"middle\" x=\"282\" y=\"-287.8\" font-family=\"Times New Roman,serif\" font-size=\"14.00\">value = [3439, 17241]</text>\r\n",
       "</g>\r\n",
       "<!-- 1 -->\r\n",
       "<g id=\"node2\" class=\"node\"><title>1</title>\r\n",
       "<polygon fill=\"none\" stroke=\"black\" points=\"278,-244 140,-244 140,-176 278,-176 278,-244\"/>\r\n",
       "<text text-anchor=\"middle\" x=\"209\" y=\"-228.8\" font-family=\"Times New Roman,serif\" font-size=\"14.00\">return &lt;= 0.067</text>\r\n",
       "<text text-anchor=\"middle\" x=\"209\" y=\"-213.8\" font-family=\"Times New Roman,serif\" font-size=\"14.00\">gini = 0.26</text>\r\n",
       "<text text-anchor=\"middle\" x=\"209\" y=\"-198.8\" font-family=\"Times New Roman,serif\" font-size=\"14.00\">samples = 20034</text>\r\n",
       "<text text-anchor=\"middle\" x=\"209\" y=\"-183.8\" font-family=\"Times New Roman,serif\" font-size=\"14.00\">value = [3072, 16962]</text>\r\n",
       "</g>\r\n",
       "<!-- 0&#45;&gt;1 -->\r\n",
       "<g id=\"edge1\" class=\"edge\"><title>0&#45;&gt;1</title>\r\n",
       "<path fill=\"none\" stroke=\"black\" d=\"M258.299,-279.884C252.052,-271.154 245.231,-261.625 238.711,-252.514\"/>\r\n",
       "<polygon fill=\"black\" stroke=\"black\" points=\"241.498,-250.394 232.832,-244.299 235.806,-254.468 241.498,-250.394\"/>\r\n",
       "<text text-anchor=\"middle\" x=\"228.745\" y=\"-265.263\" font-family=\"Times New Roman,serif\" font-size=\"14.00\">True</text>\r\n",
       "</g>\r\n",
       "<!-- 102 -->\r\n",
       "<g id=\"node9\" class=\"node\"><title>102</title>\r\n",
       "<polygon fill=\"none\" stroke=\"black\" points=\"414,-244 296,-244 296,-176 414,-176 414,-244\"/>\r\n",
       "<text text-anchor=\"middle\" x=\"355\" y=\"-228.8\" font-family=\"Times New Roman,serif\" font-size=\"14.00\">great &lt;= 0.173</text>\r\n",
       "<text text-anchor=\"middle\" x=\"355\" y=\"-213.8\" font-family=\"Times New Roman,serif\" font-size=\"14.00\">gini = 0.491</text>\r\n",
       "<text text-anchor=\"middle\" x=\"355\" y=\"-198.8\" font-family=\"Times New Roman,serif\" font-size=\"14.00\">samples = 646</text>\r\n",
       "<text text-anchor=\"middle\" x=\"355\" y=\"-183.8\" font-family=\"Times New Roman,serif\" font-size=\"14.00\">value = [367, 279]</text>\r\n",
       "</g>\r\n",
       "<!-- 0&#45;&gt;102 -->\r\n",
       "<g id=\"edge8\" class=\"edge\"><title>0&#45;&gt;102</title>\r\n",
       "<path fill=\"none\" stroke=\"black\" d=\"M305.701,-279.884C311.948,-271.154 318.769,-261.625 325.289,-252.514\"/>\r\n",
       "<polygon fill=\"black\" stroke=\"black\" points=\"328.194,-254.468 331.168,-244.299 322.502,-250.394 328.194,-254.468\"/>\r\n",
       "<text text-anchor=\"middle\" x=\"335.255\" y=\"-265.263\" font-family=\"Times New Roman,serif\" font-size=\"14.00\">False</text>\r\n",
       "</g>\r\n",
       "<!-- 2 -->\r\n",
       "<g id=\"node3\" class=\"node\"><title>2</title>\r\n",
       "<polygon fill=\"none\" stroke=\"black\" points=\"138,-140 0,-140 0,-72 138,-72 138,-140\"/>\r\n",
       "<text text-anchor=\"middle\" x=\"69\" y=\"-124.8\" font-family=\"Times New Roman,serif\" font-size=\"14.00\">bad &lt;= 0.056</text>\r\n",
       "<text text-anchor=\"middle\" x=\"69\" y=\"-109.8\" font-family=\"Times New Roman,serif\" font-size=\"14.00\">gini = 0.251</text>\r\n",
       "<text text-anchor=\"middle\" x=\"69\" y=\"-94.8\" font-family=\"Times New Roman,serif\" font-size=\"14.00\">samples = 19821</text>\r\n",
       "<text text-anchor=\"middle\" x=\"69\" y=\"-79.8\" font-family=\"Times New Roman,serif\" font-size=\"14.00\">value = [2923, 16898]</text>\r\n",
       "</g>\r\n",
       "<!-- 1&#45;&gt;2 -->\r\n",
       "<g id=\"edge2\" class=\"edge\"><title>1&#45;&gt;2</title>\r\n",
       "<path fill=\"none\" stroke=\"black\" d=\"M163.546,-175.884C150.587,-166.442 136.342,-156.064 122.93,-146.292\"/>\r\n",
       "<polygon fill=\"black\" stroke=\"black\" points=\"124.848,-143.359 114.705,-140.299 120.726,-149.017 124.848,-143.359\"/>\r\n",
       "</g>\r\n",
       "<!-- 85 -->\r\n",
       "<g id=\"node6\" class=\"node\"><title>85</title>\r\n",
       "<polygon fill=\"none\" stroke=\"black\" points=\"267.5,-140 156.5,-140 156.5,-72 267.5,-72 267.5,-140\"/>\r\n",
       "<text text-anchor=\"middle\" x=\"212\" y=\"-124.8\" font-family=\"Times New Roman,serif\" font-size=\"14.00\">home &lt;= 0.04</text>\r\n",
       "<text text-anchor=\"middle\" x=\"212\" y=\"-109.8\" font-family=\"Times New Roman,serif\" font-size=\"14.00\">gini = 0.42</text>\r\n",
       "<text text-anchor=\"middle\" x=\"212\" y=\"-94.8\" font-family=\"Times New Roman,serif\" font-size=\"14.00\">samples = 213</text>\r\n",
       "<text text-anchor=\"middle\" x=\"212\" y=\"-79.8\" font-family=\"Times New Roman,serif\" font-size=\"14.00\">value = [149, 64]</text>\r\n",
       "</g>\r\n",
       "<!-- 1&#45;&gt;85 -->\r\n",
       "<g id=\"edge5\" class=\"edge\"><title>1&#45;&gt;85</title>\r\n",
       "<path fill=\"none\" stroke=\"black\" d=\"M209.974,-175.884C210.212,-167.778 210.471,-158.982 210.721,-150.472\"/>\r\n",
       "<polygon fill=\"black\" stroke=\"black\" points=\"214.225,-150.398 211.021,-140.299 207.228,-150.192 214.225,-150.398\"/>\r\n",
       "</g>\r\n",
       "<!-- 3 -->\r\n",
       "<g id=\"node4\" class=\"node\"><title>3</title>\r\n",
       "<polygon fill=\"none\" stroke=\"black\" points=\"55,-36 1,-36 1,-0 55,-0 55,-36\"/>\r\n",
       "<text text-anchor=\"middle\" x=\"28\" y=\"-14.3\" font-family=\"Times New Roman,serif\" font-size=\"14.00\">(...)</text>\r\n",
       "</g>\r\n",
       "<!-- 2&#45;&gt;3 -->\r\n",
       "<g id=\"edge3\" class=\"edge\"><title>2&#45;&gt;3</title>\r\n",
       "<path fill=\"none\" stroke=\"black\" d=\"M53.2656,-71.9961C49.1104,-63.2804 44.6787,-53.9846 40.7059,-45.6514\"/>\r\n",
       "<polygon fill=\"black\" stroke=\"black\" points=\"43.7598,-43.9238 36.297,-36.4034 37.4411,-46.9363 43.7598,-43.9238\"/>\r\n",
       "</g>\r\n",
       "<!-- 48 -->\r\n",
       "<g id=\"node5\" class=\"node\"><title>48</title>\r\n",
       "<polygon fill=\"none\" stroke=\"black\" points=\"127,-36 73,-36 73,-0 127,-0 127,-36\"/>\r\n",
       "<text text-anchor=\"middle\" x=\"100\" y=\"-14.3\" font-family=\"Times New Roman,serif\" font-size=\"14.00\">(...)</text>\r\n",
       "</g>\r\n",
       "<!-- 2&#45;&gt;48 -->\r\n",
       "<g id=\"edge4\" class=\"edge\"><title>2&#45;&gt;48</title>\r\n",
       "<path fill=\"none\" stroke=\"black\" d=\"M80.8968,-71.9961C84.0043,-63.3751 87.3164,-54.1866 90.295,-45.9234\"/>\r\n",
       "<polygon fill=\"black\" stroke=\"black\" points=\"93.6282,-46.9978 93.7267,-36.4034 87.0429,-44.624 93.6282,-46.9978\"/>\r\n",
       "</g>\r\n",
       "<!-- 86 -->\r\n",
       "<g id=\"node7\" class=\"node\"><title>86</title>\r\n",
       "<polygon fill=\"none\" stroke=\"black\" points=\"234,-36 180,-36 180,-0 234,-0 234,-36\"/>\r\n",
       "<text text-anchor=\"middle\" x=\"207\" y=\"-14.3\" font-family=\"Times New Roman,serif\" font-size=\"14.00\">(...)</text>\r\n",
       "</g>\r\n",
       "<!-- 85&#45;&gt;86 -->\r\n",
       "<g id=\"edge6\" class=\"edge\"><title>85&#45;&gt;86</title>\r\n",
       "<path fill=\"none\" stroke=\"black\" d=\"M210.081,-71.9961C209.591,-63.5646 209.069,-54.5902 208.597,-46.4696\"/>\r\n",
       "<polygon fill=\"black\" stroke=\"black\" points=\"212.086,-46.1833 208.012,-36.4034 205.098,-46.5897 212.086,-46.1833\"/>\r\n",
       "</g>\r\n",
       "<!-- 101 -->\r\n",
       "<g id=\"node8\" class=\"node\"><title>101</title>\r\n",
       "<polygon fill=\"none\" stroke=\"black\" points=\"306,-36 252,-36 252,-0 306,-0 306,-36\"/>\r\n",
       "<text text-anchor=\"middle\" x=\"279\" y=\"-14.3\" font-family=\"Times New Roman,serif\" font-size=\"14.00\">(...)</text>\r\n",
       "</g>\r\n",
       "<!-- 85&#45;&gt;101 -->\r\n",
       "<g id=\"edge7\" class=\"edge\"><title>85&#45;&gt;101</title>\r\n",
       "<path fill=\"none\" stroke=\"black\" d=\"M237.712,-71.9961C244.872,-62.8067 252.533,-52.9725 259.288,-44.3014\"/>\r\n",
       "<polygon fill=\"black\" stroke=\"black\" points=\"262.057,-46.443 265.442,-36.4034 256.535,-42.141 262.057,-46.443\"/>\r\n",
       "</g>\r\n",
       "<!-- 103 -->\r\n",
       "<g id=\"node10\" class=\"node\"><title>103</title>\r\n",
       "<polygon fill=\"none\" stroke=\"black\" points=\"413,-140 295,-140 295,-72 413,-72 413,-140\"/>\r\n",
       "<text text-anchor=\"middle\" x=\"354\" y=\"-124.8\" font-family=\"Times New Roman,serif\" font-size=\"14.00\">delici &lt;= 0.102</text>\r\n",
       "<text text-anchor=\"middle\" x=\"354\" y=\"-109.8\" font-family=\"Times New Roman,serif\" font-size=\"14.00\">gini = 0.48</text>\r\n",
       "<text text-anchor=\"middle\" x=\"354\" y=\"-94.8\" font-family=\"Times New Roman,serif\" font-size=\"14.00\">samples = 604</text>\r\n",
       "<text text-anchor=\"middle\" x=\"354\" y=\"-79.8\" font-family=\"Times New Roman,serif\" font-size=\"14.00\">value = [362, 242]</text>\r\n",
       "</g>\r\n",
       "<!-- 102&#45;&gt;103 -->\r\n",
       "<g id=\"edge9\" class=\"edge\"><title>102&#45;&gt;103</title>\r\n",
       "<path fill=\"none\" stroke=\"black\" d=\"M354.675,-175.884C354.596,-167.778 354.51,-158.982 354.426,-150.472\"/>\r\n",
       "<polygon fill=\"black\" stroke=\"black\" points=\"357.924,-150.265 354.326,-140.299 350.925,-150.333 357.924,-150.265\"/>\r\n",
       "</g>\r\n",
       "<!-- 124 -->\r\n",
       "<g id=\"node13\" class=\"node\"><title>124</title>\r\n",
       "<polygon fill=\"none\" stroke=\"black\" points=\"529,-132.5 431,-132.5 431,-79.5 529,-79.5 529,-132.5\"/>\r\n",
       "<text text-anchor=\"middle\" x=\"480\" y=\"-117.3\" font-family=\"Times New Roman,serif\" font-size=\"14.00\">gini = 0.21</text>\r\n",
       "<text text-anchor=\"middle\" x=\"480\" y=\"-102.3\" font-family=\"Times New Roman,serif\" font-size=\"14.00\">samples = 42</text>\r\n",
       "<text text-anchor=\"middle\" x=\"480\" y=\"-87.3\" font-family=\"Times New Roman,serif\" font-size=\"14.00\">value = [5, 37]</text>\r\n",
       "</g>\r\n",
       "<!-- 102&#45;&gt;124 -->\r\n",
       "<g id=\"edge12\" class=\"edge\"><title>102&#45;&gt;124</title>\r\n",
       "<path fill=\"none\" stroke=\"black\" d=\"M395.584,-175.884C410.14,-164.006 426.512,-150.646 440.936,-138.876\"/>\r\n",
       "<polygon fill=\"black\" stroke=\"black\" points=\"443.191,-141.554 448.726,-132.52 438.765,-136.13 443.191,-141.554\"/>\r\n",
       "</g>\r\n",
       "<!-- 104 -->\r\n",
       "<g id=\"node11\" class=\"node\"><title>104</title>\r\n",
       "<polygon fill=\"none\" stroke=\"black\" points=\"378,-36 324,-36 324,-0 378,-0 378,-36\"/>\r\n",
       "<text text-anchor=\"middle\" x=\"351\" y=\"-14.3\" font-family=\"Times New Roman,serif\" font-size=\"14.00\">(...)</text>\r\n",
       "</g>\r\n",
       "<!-- 103&#45;&gt;104 -->\r\n",
       "<g id=\"edge10\" class=\"edge\"><title>103&#45;&gt;104</title>\r\n",
       "<path fill=\"none\" stroke=\"black\" d=\"M352.849,-71.9961C352.555,-63.5646 352.242,-54.5902 351.958,-46.4696\"/>\r\n",
       "<polygon fill=\"black\" stroke=\"black\" points=\"355.454,-46.2753 351.607,-36.4034 348.458,-46.5194 355.454,-46.2753\"/>\r\n",
       "</g>\r\n",
       "<!-- 123 -->\r\n",
       "<g id=\"node12\" class=\"node\"><title>123</title>\r\n",
       "<polygon fill=\"none\" stroke=\"black\" points=\"450,-36 396,-36 396,-0 450,-0 450,-36\"/>\r\n",
       "<text text-anchor=\"middle\" x=\"423\" y=\"-14.3\" font-family=\"Times New Roman,serif\" font-size=\"14.00\">(...)</text>\r\n",
       "</g>\r\n",
       "<!-- 103&#45;&gt;123 -->\r\n",
       "<g id=\"edge11\" class=\"edge\"><title>103&#45;&gt;123</title>\r\n",
       "<path fill=\"none\" stroke=\"black\" d=\"M380.48,-71.9961C387.853,-62.8067 395.743,-52.9725 402.7,-44.3014\"/>\r\n",
       "<polygon fill=\"black\" stroke=\"black\" points=\"405.509,-46.3936 409.037,-36.4034 400.049,-42.0129 405.509,-46.3936\"/>\r\n",
       "</g>\r\n",
       "</g>\r\n",
       "</svg>\r\n"
      ],
      "text/plain": [
       "<graphviz.files.Source at 0x1f755b2d898>"
      ]
     },
     "execution_count": 28,
     "metadata": {},
     "output_type": "execute_result"
    }
   ],
   "source": [
    "from sklearn import tree\n",
    "from graphviz import Source\n",
    "import graphviz\n",
    "feat = count_vect.get_feature_names() \n",
    "Source(tree.export_graphviz(clf, out_file = None, feature_names = feat,max_depth=2))"
   ]
  },
  {
   "cell_type": "markdown",
   "metadata": {},
   "source": [
    "##  TF-IDF"
   ]
  },
  {
   "cell_type": "code",
   "execution_count": 29,
   "metadata": {
    "ExecuteTime": {
     "end_time": "2019-03-31T20:46:45.547418Z",
     "start_time": "2019-03-31T20:46:32.211421Z"
    }
   },
   "outputs": [
    {
     "name": "stdout",
     "output_type": "stream",
     "text": [
      "The type of count vectorizer  <class 'scipy.sparse.csr.csr_matrix'>\n",
      "The shape of out text TFIDF vectorizer  (20680, 397694)\n",
      "CV Data Size:  (10187, 397694)\n",
      "Test Data Size:  (15204, 397694)\n"
     ]
    }
   ],
   "source": [
    "tf_idf_vect = TfidfVectorizer(ngram_range=(1,2))\n",
    "tfidf_train = tf_idf_vect.fit_transform(X_tr)\n",
    "print(\"The type of count vectorizer \",type(tfidf_train))\n",
    "print(\"The shape of out text TFIDF vectorizer \",tfidf_train.get_shape())\n",
    "tfidf_cv = tf_idf_vect.transform(X_cv)\n",
    "tfidf_test = tf_idf_vect.transform(X_test)\n",
    "print(\"CV Data Size: \",tfidf_cv.shape)\n",
    "print(\"Test Data Size: \",tfidf_test.shape)"
   ]
  },
  {
   "cell_type": "code",
   "execution_count": 30,
   "metadata": {
    "ExecuteTime": {
     "end_time": "2019-03-31T20:46:46.429517Z",
     "start_time": "2019-03-31T20:46:46.301933Z"
    }
   },
   "outputs": [
    {
     "name": "stdout",
     "output_type": "stream",
     "text": [
      "The shape of out text BOW vectorizer  (20680, 397694)\n",
      "CV Data Size:  (10187, 397694)\n",
      "Test Data Size:  (15204, 397694)\n"
     ]
    }
   ],
   "source": [
    "#Normalize Data\n",
    "from sklearn import preprocessing\n",
    "from sklearn.preprocessing import Normalizer\n",
    "normalizer = preprocessing.Normalizer()\n",
    "bow_train = normalizer.fit_transform(tfidf_train)\n",
    "bow_cv = normalizer.transform(tfidf_cv)\n",
    "bow_test = normalizer.transform(tfidf_test)\n",
    "print(\"The shape of out text BOW vectorizer \",tfidf_train.get_shape())\n",
    "print(\"CV Data Size: \",tfidf_cv.shape)\n",
    "print(\"Test Data Size: \",tfidf_test.shape)"
   ]
  },
  {
   "cell_type": "code",
   "execution_count": 31,
   "metadata": {
    "ExecuteTime": {
     "end_time": "2019-03-31T21:12:48.274741Z",
     "start_time": "2019-03-31T20:46:47.272941Z"
    }
   },
   "outputs": [
    {
     "name": "stdout",
     "output_type": "stream",
     "text": [
      "------------------------------ AUC Score for train data ------------------------------\n"
     ]
    },
    {
     "data": {
      "image/png": "[encoded data removed]",
      "text/plain": [
       "<Figure size 720x360 with 2 Axes>"
      ]
     },
     "metadata": {
      "needs_background": "light"
     },
     "output_type": "display_data"
    },
    {
     "name": "stdout",
     "output_type": "stream",
     "text": [
      "------------------------------ AUC Score for CV data ------------------------------\n"
     ]
    },
    {
     "data": {
      "image/png": "[encoded data removed]",
      "text/plain": [
       "<Figure size 720x360 with 2 Axes>"
      ]
     },
     "metadata": {
      "needs_background": "light"
     },
     "output_type": "display_data"
    }
   ],
   "source": [
    "# find optimal depth and optimal split\n",
    "DT_Classifier(tfidf_train,tfidf_cv,Y_tr,Y_cv)"
   ]
  },
  {
   "cell_type": "markdown",
   "metadata": {},
   "source": [
    "### Testing on Test data and Traing data in TF-IDF"
   ]
  },
  {
   "cell_type": "code",
   "execution_count": 32,
   "metadata": {
    "ExecuteTime": {
     "end_time": "2019-04-01T10:43:39.748376Z",
     "start_time": "2019-04-01T10:43:36.576221Z"
    }
   },
   "outputs": [
    {
     "name": "stdout",
     "output_type": "stream",
     "text": [
      "AUC Score for train data 0.7695875444764292\n",
      "AUC Score for test data 0.7572004739602284\n",
      "macro f1 score for train data : 0.6451139635377772\n",
      "macro f1 score for test data : 0.6357887406545473\n",
      "micro f1 score for train data: 0.8593326885880077\n",
      "micro f1 score for test data: 0.8531307550644567\n",
      "hamming loss for train data: 0.14066731141199226\n",
      "hamming loss for test data: 0.1468692449355433\n",
      "Precision recall report for train data:\n",
      "               precision    recall  f1-score   support\n",
      "\n",
      "           0       0.73      0.25      0.37      3439\n",
      "           1       0.87      0.98      0.92     17241\n",
      "\n",
      "    accuracy                           0.86     20680\n",
      "   macro avg       0.80      0.61      0.65     20680\n",
      "weighted avg       0.84      0.86      0.83     20680\n",
      "\n",
      "Precision recall report for test data:\n",
      "               precision    recall  f1-score   support\n",
      "\n",
      "           0       0.66      0.24      0.35      2526\n",
      "           1       0.87      0.97      0.92     12678\n",
      "\n",
      "    accuracy                           0.85     15204\n",
      "   macro avg       0.76      0.61      0.64     15204\n",
      "weighted avg       0.83      0.85      0.82     15204\n",
      "\n"
     ]
    },
    {
     "data": {
      "image/png": "[encoded data removed]",
      "text/plain": [
       "<Figure size 432x288 with 1 Axes>"
      ]
     },
     "metadata": {
      "needs_background": "light"
     },
     "output_type": "display_data"
    },
    {
     "data": {
      "image/png": "[encoded data removed]",
      "text/plain": [
       "<Figure size 432x288 with 2 Axes>"
      ]
     },
     "metadata": {
      "needs_background": "light"
     },
     "output_type": "display_data"
    },
    {
     "data": {
      "image/png": "[encoded data removed]",
      "text/plain": [
       "<Figure size 432x288 with 2 Axes>"
      ]
     },
     "metadata": {
      "needs_background": "light"
     },
     "output_type": "display_data"
    }
   ],
   "source": [
    "testing(tfidf_train,Y_tr,tfidf_test,Y_test,optimal_depth=10,optimal_split=500)"
   ]
  },
  {
   "cell_type": "code",
   "execution_count": 33,
   "metadata": {
    "ExecuteTime": {
     "end_time": "2019-03-29T20:07:54.462465Z",
     "start_time": "2019-03-29T20:07:45.390146Z"
    }
   },
   "outputs": [
    {
     "name": "stdout",
     "output_type": "stream",
     "text": [
      "\u001b[1mfeature_importances\tfeatures\u001b[0m\n",
      "===================================\n",
      "0.1887\t\t\tdisappoint     \n",
      "0.1134\t\t\treturn         \n",
      "0.1035\t\t\tgreat          \n",
      "0.0995\t\t\tbad            \n",
      "0.0870\t\t\tworst          \n",
      "0.0774\t\t\twast money     \n",
      "0.0649\t\t\tlove           \n",
      "0.0596\t\t\tterribl        \n",
      "0.0425\t\t\tbest           \n",
      "0.0378\t\t\tdelici         \n",
      "0.0282\t\t\twont disappoint\n",
      "0.0150\t\t\tperfect        \n",
      "0.0140\t\t\ttast           \n",
      "0.0102\t\t\tgood           \n",
      "0.0101\t\t\tstale          \n",
      "0.0096\t\t\thorribl        \n",
      "0.0092\t\t\tcancel         \n",
      "0.0088\t\t\till            \n",
      "0.0078\t\t\ttrash          \n",
      "0.0064\t\t\tdisapoint      \n"
     ]
    }
   ],
   "source": [
    "clf = DecisionTreeClassifier(max_depth =10 , min_samples_split =500 )\n",
    "clf.fit(tfidf_train,Y_tr)\n",
    "imp_feature(tf_idf_vect,clf)"
   ]
  },
  {
   "cell_type": "code",
   "execution_count": 34,
   "metadata": {
    "ExecuteTime": {
     "end_time": "2019-03-29T20:08:03.730012Z",
     "start_time": "2019-03-29T20:08:02.484439Z"
    }
   },
   "outputs": [
    {
     "data": {
      "image/svg+xml": [
       "<?xml version=\"1.0\" encoding=\"UTF-8\" standalone=\"no\"?>\r\n",
       "<!DOCTYPE svg PUBLIC \"-//W3C//DTD SVG 1.1//EN\"\r\n",
       " \"http://www.w3.org/Graphics/SVG/1.1/DTD/svg11.dtd\">\r\n",
       "<!-- Generated by graphviz version 2.38.0 (20140413.2041)\r\n",
       " -->\r\n",
       "<!-- Title: Tree Pages: 1 -->\r\n",
       "<svg width=\"544pt\" height=\"356pt\"\r\n",
       " viewBox=\"0.00 0.00 544.00 356.00\" xmlns=\"http://www.w3.org/2000/svg\" xmlns:xlink=\"http://www.w3.org/1999/xlink\">\r\n",
       "<g id=\"graph0\" class=\"graph\" transform=\"scale(1 1) rotate(0) translate(4 352)\">\r\n",
       "<title>Tree</title>\r\n",
       "<polygon fill=\"white\" stroke=\"none\" points=\"-4,4 -4,-352 540,-352 540,4 -4,4\"/>\r\n",
       "<!-- 0 -->\r\n",
       "<g id=\"node1\" class=\"node\"><title>0</title>\r\n",
       "<polygon fill=\"none\" stroke=\"black\" points=\"355,-348 217,-348 217,-280 355,-280 355,-348\"/>\r\n",
       "<text text-anchor=\"middle\" x=\"286\" y=\"-332.8\" font-family=\"Times New Roman,serif\" font-size=\"14.00\">disappoint &lt;= 0.036</text>\r\n",
       "<text text-anchor=\"middle\" x=\"286\" y=\"-317.8\" font-family=\"Times New Roman,serif\" font-size=\"14.00\">gini = 0.277</text>\r\n",
       "<text text-anchor=\"middle\" x=\"286\" y=\"-302.8\" font-family=\"Times New Roman,serif\" font-size=\"14.00\">samples = 20680</text>\r\n",
       "<text text-anchor=\"middle\" x=\"286\" y=\"-287.8\" font-family=\"Times New Roman,serif\" font-size=\"14.00\">value = [3439, 17241]</text>\r\n",
       "</g>\r\n",
       "<!-- 1 -->\r\n",
       "<g id=\"node2\" class=\"node\"><title>1</title>\r\n",
       "<polygon fill=\"none\" stroke=\"black\" points=\"273,-244 135,-244 135,-176 273,-176 273,-244\"/>\r\n",
       "<text text-anchor=\"middle\" x=\"204\" y=\"-228.8\" font-family=\"Times New Roman,serif\" font-size=\"14.00\">return &lt;= 0.037</text>\r\n",
       "<text text-anchor=\"middle\" x=\"204\" y=\"-213.8\" font-family=\"Times New Roman,serif\" font-size=\"14.00\">gini = 0.259</text>\r\n",
       "<text text-anchor=\"middle\" x=\"204\" y=\"-198.8\" font-family=\"Times New Roman,serif\" font-size=\"14.00\">samples = 20002</text>\r\n",
       "<text text-anchor=\"middle\" x=\"204\" y=\"-183.8\" font-family=\"Times New Roman,serif\" font-size=\"14.00\">value = [3060, 16942]</text>\r\n",
       "</g>\r\n",
       "<!-- 0&#45;&gt;1 -->\r\n",
       "<g id=\"edge1\" class=\"edge\"><title>0&#45;&gt;1</title>\r\n",
       "<path fill=\"none\" stroke=\"black\" d=\"M259.377,-279.884C252.288,-271.065 244.542,-261.43 237.15,-252.235\"/>\r\n",
       "<polygon fill=\"black\" stroke=\"black\" points=\"239.764,-249.9 230.77,-244.299 234.308,-254.286 239.764,-249.9\"/>\r\n",
       "<text text-anchor=\"middle\" x=\"228.069\" y=\"-265.453\" font-family=\"Times New Roman,serif\" font-size=\"14.00\">True</text>\r\n",
       "</g>\r\n",
       "<!-- 40 -->\r\n",
       "<g id=\"node7\" class=\"node\"><title>40</title>\r\n",
       "<polygon fill=\"none\" stroke=\"black\" points=\"446.5,-244 291.5,-244 291.5,-176 446.5,-176 446.5,-244\"/>\r\n",
       "<text text-anchor=\"middle\" x=\"369\" y=\"-228.8\" font-family=\"Times New Roman,serif\" font-size=\"14.00\">wont disappoint &lt;= 0.02</text>\r\n",
       "<text text-anchor=\"middle\" x=\"369\" y=\"-213.8\" font-family=\"Times New Roman,serif\" font-size=\"14.00\">gini = 0.493</text>\r\n",
       "<text text-anchor=\"middle\" x=\"369\" y=\"-198.8\" font-family=\"Times New Roman,serif\" font-size=\"14.00\">samples = 678</text>\r\n",
       "<text text-anchor=\"middle\" x=\"369\" y=\"-183.8\" font-family=\"Times New Roman,serif\" font-size=\"14.00\">value = [379, 299]</text>\r\n",
       "</g>\r\n",
       "<!-- 0&#45;&gt;40 -->\r\n",
       "<g id=\"edge6\" class=\"edge\"><title>0&#45;&gt;40</title>\r\n",
       "<path fill=\"none\" stroke=\"black\" d=\"M312.948,-279.884C320.123,-271.065 327.964,-261.43 335.446,-252.235\"/>\r\n",
       "<polygon fill=\"black\" stroke=\"black\" points=\"338.307,-254.265 341.903,-244.299 332.877,-249.847 338.307,-254.265\"/>\r\n",
       "<text text-anchor=\"middle\" x=\"344.458\" y=\"-265.469\" font-family=\"Times New Roman,serif\" font-size=\"14.00\">False</text>\r\n",
       "</g>\r\n",
       "<!-- 2 -->\r\n",
       "<g id=\"node3\" class=\"node\"><title>2</title>\r\n",
       "<polygon fill=\"none\" stroke=\"black\" points=\"138,-140 0,-140 0,-72 138,-72 138,-140\"/>\r\n",
       "<text text-anchor=\"middle\" x=\"69\" y=\"-124.8\" font-family=\"Times New Roman,serif\" font-size=\"14.00\">bad &lt;= 0.028</text>\r\n",
       "<text text-anchor=\"middle\" x=\"69\" y=\"-109.8\" font-family=\"Times New Roman,serif\" font-size=\"14.00\">gini = 0.251</text>\r\n",
       "<text text-anchor=\"middle\" x=\"69\" y=\"-94.8\" font-family=\"Times New Roman,serif\" font-size=\"14.00\">samples = 19788</text>\r\n",
       "<text text-anchor=\"middle\" x=\"69\" y=\"-79.8\" font-family=\"Times New Roman,serif\" font-size=\"14.00\">value = [2910, 16878]</text>\r\n",
       "</g>\r\n",
       "<!-- 1&#45;&gt;2 -->\r\n",
       "<g id=\"edge2\" class=\"edge\"><title>1&#45;&gt;2</title>\r\n",
       "<path fill=\"none\" stroke=\"black\" d=\"M160.169,-175.884C147.791,-166.531 134.196,-156.259 121.37,-146.568\"/>\r\n",
       "<polygon fill=\"black\" stroke=\"black\" points=\"123.161,-143.535 113.073,-140.299 118.941,-149.12 123.161,-143.535\"/>\r\n",
       "</g>\r\n",
       "<!-- 39 -->\r\n",
       "<g id=\"node6\" class=\"node\"><title>39</title>\r\n",
       "<polygon fill=\"none\" stroke=\"black\" points=\"267.5,-132.5 156.5,-132.5 156.5,-79.5 267.5,-79.5 267.5,-132.5\"/>\r\n",
       "<text text-anchor=\"middle\" x=\"212\" y=\"-117.3\" font-family=\"Times New Roman,serif\" font-size=\"14.00\">gini = 0.419</text>\r\n",
       "<text text-anchor=\"middle\" x=\"212\" y=\"-102.3\" font-family=\"Times New Roman,serif\" font-size=\"14.00\">samples = 214</text>\r\n",
       "<text text-anchor=\"middle\" x=\"212\" y=\"-87.3\" font-family=\"Times New Roman,serif\" font-size=\"14.00\">value = [150, 64]</text>\r\n",
       "</g>\r\n",
       "<!-- 1&#45;&gt;39 -->\r\n",
       "<g id=\"edge5\" class=\"edge\"><title>1&#45;&gt;39</title>\r\n",
       "<path fill=\"none\" stroke=\"black\" d=\"M206.597,-175.884C207.434,-165.216 208.365,-153.352 209.214,-142.519\"/>\r\n",
       "<polygon fill=\"black\" stroke=\"black\" points=\"212.706,-142.763 209.998,-132.52 205.727,-142.216 212.706,-142.763\"/>\r\n",
       "</g>\r\n",
       "<!-- 3 -->\r\n",
       "<g id=\"node4\" class=\"node\"><title>3</title>\r\n",
       "<polygon fill=\"none\" stroke=\"black\" points=\"60,-36 6,-36 6,-0 60,-0 60,-36\"/>\r\n",
       "<text text-anchor=\"middle\" x=\"33\" y=\"-14.3\" font-family=\"Times New Roman,serif\" font-size=\"14.00\">(...)</text>\r\n",
       "</g>\r\n",
       "<!-- 2&#45;&gt;3 -->\r\n",
       "<g id=\"edge3\" class=\"edge\"><title>2&#45;&gt;3</title>\r\n",
       "<path fill=\"none\" stroke=\"black\" d=\"M55.1844,-71.9961C51.536,-63.2804 47.6447,-53.9846 44.1564,-45.6514\"/>\r\n",
       "<polygon fill=\"black\" stroke=\"black\" points=\"47.3751,-44.2763 40.2851,-36.4034 40.918,-46.9793 47.3751,-44.2763\"/>\r\n",
       "</g>\r\n",
       "<!-- 34 -->\r\n",
       "<g id=\"node5\" class=\"node\"><title>34</title>\r\n",
       "<polygon fill=\"none\" stroke=\"black\" points=\"132,-36 78,-36 78,-0 132,-0 132,-36\"/>\r\n",
       "<text text-anchor=\"middle\" x=\"105\" y=\"-14.3\" font-family=\"Times New Roman,serif\" font-size=\"14.00\">(...)</text>\r\n",
       "</g>\r\n",
       "<!-- 2&#45;&gt;34 -->\r\n",
       "<g id=\"edge4\" class=\"edge\"><title>2&#45;&gt;34</title>\r\n",
       "<path fill=\"none\" stroke=\"black\" d=\"M82.8156,-71.9961C86.464,-63.2804 90.3553,-53.9846 93.8436,-45.6514\"/>\r\n",
       "<polygon fill=\"black\" stroke=\"black\" points=\"97.082,-46.9793 97.7149,-36.4034 90.6249,-44.2763 97.082,-46.9793\"/>\r\n",
       "</g>\r\n",
       "<!-- 41 -->\r\n",
       "<g id=\"node8\" class=\"node\"><title>41</title>\r\n",
       "<polygon fill=\"none\" stroke=\"black\" points=\"420,-140 302,-140 302,-72 420,-72 420,-140\"/>\r\n",
       "<text text-anchor=\"middle\" x=\"361\" y=\"-124.8\" font-family=\"Times New Roman,serif\" font-size=\"14.00\">great &lt;= 0.044</text>\r\n",
       "<text text-anchor=\"middle\" x=\"361\" y=\"-109.8\" font-family=\"Times New Roman,serif\" font-size=\"14.00\">gini = 0.479</text>\r\n",
       "<text text-anchor=\"middle\" x=\"361\" y=\"-94.8\" font-family=\"Times New Roman,serif\" font-size=\"14.00\">samples = 630</text>\r\n",
       "<text text-anchor=\"middle\" x=\"361\" y=\"-79.8\" font-family=\"Times New Roman,serif\" font-size=\"14.00\">value = [379, 251]</text>\r\n",
       "</g>\r\n",
       "<!-- 40&#45;&gt;41 -->\r\n",
       "<g id=\"edge7\" class=\"edge\"><title>40&#45;&gt;41</title>\r\n",
       "<path fill=\"none\" stroke=\"black\" d=\"M366.403,-175.884C365.767,-167.778 365.077,-158.982 364.41,-150.472\"/>\r\n",
       "<polygon fill=\"black\" stroke=\"black\" points=\"367.883,-149.995 363.612,-140.299 360.904,-150.542 367.883,-149.995\"/>\r\n",
       "</g>\r\n",
       "<!-- 48 -->\r\n",
       "<g id=\"node11\" class=\"node\"><title>48</title>\r\n",
       "<polygon fill=\"none\" stroke=\"black\" points=\"536,-132.5 438,-132.5 438,-79.5 536,-79.5 536,-132.5\"/>\r\n",
       "<text text-anchor=\"middle\" x=\"487\" y=\"-117.3\" font-family=\"Times New Roman,serif\" font-size=\"14.00\">gini = 0.0</text>\r\n",
       "<text text-anchor=\"middle\" x=\"487\" y=\"-102.3\" font-family=\"Times New Roman,serif\" font-size=\"14.00\">samples = 48</text>\r\n",
       "<text text-anchor=\"middle\" x=\"487\" y=\"-87.3\" font-family=\"Times New Roman,serif\" font-size=\"14.00\">value = [0, 48]</text>\r\n",
       "</g>\r\n",
       "<!-- 40&#45;&gt;48 -->\r\n",
       "<g id=\"edge10\" class=\"edge\"><title>40&#45;&gt;48</title>\r\n",
       "<path fill=\"none\" stroke=\"black\" d=\"M407.311,-175.884C420.925,-164.116 436.221,-150.894 449.745,-139.203\"/>\r\n",
       "<polygon fill=\"black\" stroke=\"black\" points=\"452.2,-141.707 457.477,-132.52 447.623,-136.412 452.2,-141.707\"/>\r\n",
       "</g>\r\n",
       "<!-- 42 -->\r\n",
       "<g id=\"node9\" class=\"node\"><title>42</title>\r\n",
       "<polygon fill=\"none\" stroke=\"black\" points=\"352,-36 298,-36 298,-0 352,-0 352,-36\"/>\r\n",
       "<text text-anchor=\"middle\" x=\"325\" y=\"-14.3\" font-family=\"Times New Roman,serif\" font-size=\"14.00\">(...)</text>\r\n",
       "</g>\r\n",
       "<!-- 41&#45;&gt;42 -->\r\n",
       "<g id=\"edge8\" class=\"edge\"><title>41&#45;&gt;42</title>\r\n",
       "<path fill=\"none\" stroke=\"black\" d=\"M347.184,-71.9961C343.536,-63.2804 339.645,-53.9846 336.156,-45.6514\"/>\r\n",
       "<polygon fill=\"black\" stroke=\"black\" points=\"339.375,-44.2763 332.285,-36.4034 332.918,-46.9793 339.375,-44.2763\"/>\r\n",
       "</g>\r\n",
       "<!-- 47 -->\r\n",
       "<g id=\"node10\" class=\"node\"><title>47</title>\r\n",
       "<polygon fill=\"none\" stroke=\"black\" points=\"424,-36 370,-36 370,-0 424,-0 424,-36\"/>\r\n",
       "<text text-anchor=\"middle\" x=\"397\" y=\"-14.3\" font-family=\"Times New Roman,serif\" font-size=\"14.00\">(...)</text>\r\n",
       "</g>\r\n",
       "<!-- 41&#45;&gt;47 -->\r\n",
       "<g id=\"edge9\" class=\"edge\"><title>41&#45;&gt;47</title>\r\n",
       "<path fill=\"none\" stroke=\"black\" d=\"M374.816,-71.9961C378.464,-63.2804 382.355,-53.9846 385.844,-45.6514\"/>\r\n",
       "<polygon fill=\"black\" stroke=\"black\" points=\"389.082,-46.9793 389.715,-36.4034 382.625,-44.2763 389.082,-46.9793\"/>\r\n",
       "</g>\r\n",
       "</g>\r\n",
       "</svg>\r\n"
      ],
      "text/plain": [
       "<graphviz.files.Source at 0x1f75302b4a8>"
      ]
     },
     "execution_count": 34,
     "metadata": {},
     "output_type": "execute_result"
    }
   ],
   "source": [
    "from sklearn import tree\n",
    "from graphviz import Source\n",
    "import graphviz\n",
    "feat = tf_idf_vect.get_feature_names() \n",
    "Source(tree.export_graphviz(clf, out_file = None, feature_names = feat,max_depth=2))"
   ]
  },
  {
   "cell_type": "markdown",
   "metadata": {},
   "source": [
    "## Avg W2V"
   ]
  },
  {
   "cell_type": "code",
   "execution_count": 35,
   "metadata": {
    "ExecuteTime": {
     "end_time": "2019-03-31T21:12:53.724351Z",
     "start_time": "2019-03-31T21:12:49.110351Z"
    }
   },
   "outputs": [],
   "source": [
    "i=0\n",
    "list_of_sent_train=[]\n",
    "for sent in X_tr.values:\n",
    "    filtered_sentence=[]\n",
    "    sent=cleanhtml(sent)\n",
    "    for w in sent.split():\n",
    "        for cleaned_words in cleanpunc(w).split():\n",
    "            if(cleaned_words.isalpha()):    \n",
    "                filtered_sentence.append(cleaned_words.lower())\n",
    "            else:\n",
    "                continue \n",
    "    list_of_sent_train.append(filtered_sentence)"
   ]
  },
  {
   "cell_type": "code",
   "execution_count": 36,
   "metadata": {
    "ExecuteTime": {
     "end_time": "2019-03-31T21:12:57.334032Z",
     "start_time": "2019-03-31T21:12:55.047242Z"
    }
   },
   "outputs": [],
   "source": [
    "i=0\n",
    "list_of_sent_CV=[]\n",
    "for sent in X_cv.values:\n",
    "    filtered_sentence=[]\n",
    "    sent=cleanhtml(sent)\n",
    "    for w in sent.split():\n",
    "        for cleaned_words in cleanpunc(w).split():\n",
    "            if(cleaned_words.isalpha()):    \n",
    "                filtered_sentence.append(cleaned_words.lower())\n",
    "            else:\n",
    "                continue \n",
    "    list_of_sent_CV.append(filtered_sentence)"
   ]
  },
  {
   "cell_type": "code",
   "execution_count": 37,
   "metadata": {
    "ExecuteTime": {
     "end_time": "2019-03-31T21:13:02.254149Z",
     "start_time": "2019-03-31T21:12:58.886349Z"
    }
   },
   "outputs": [],
   "source": [
    "i=0\n",
    "list_of_sent_test=[]\n",
    "for sent in X_test.values:\n",
    "    filtered_sentence=[]\n",
    "    sent=cleanhtml(sent)\n",
    "    for w in sent.split():\n",
    "        for cleaned_words in cleanpunc(w).split():\n",
    "            if(cleaned_words.isalpha()):    \n",
    "                filtered_sentence.append(cleaned_words.lower())\n",
    "            else:\n",
    "                continue \n",
    "    list_of_sent_test.append(filtered_sentence)"
   ]
  },
  {
   "cell_type": "code",
   "execution_count": 38,
   "metadata": {
    "ExecuteTime": {
     "end_time": "2019-03-31T21:13:12.185274Z",
     "start_time": "2019-03-31T21:13:04.109677Z"
    }
   },
   "outputs": [],
   "source": [
    "import gensim\n",
    "w2v_model = gensim.models.Word2Vec(list_of_sent_train,min_count=5,size=50,workers=4)\n",
    "w2v_words = list(w2v_model.wv.vocab)"
   ]
  },
  {
   "cell_type": "code",
   "execution_count": 39,
   "metadata": {
    "ExecuteTime": {
     "end_time": "2019-03-31T21:13:14.087213Z",
     "start_time": "2019-03-31T21:13:14.081216Z"
    }
   },
   "outputs": [],
   "source": [
    "def avg_w2v(list_of_sent):\n",
    "    sent_vectors = []; # the avg-w2v for each sentence/review is stored in this list\n",
    "    for sent in list_of_sent: # for each review/sentence\n",
    "        sent_vec = np.zeros(50) # as word vectors are of zero length\n",
    "        cnt_words =0; # num of words with a valid vector in the sentence/review\n",
    "        for word in sent: # for each word in a review/sentence\n",
    "            if word in w2v_words:\n",
    "                vec = w2v_model.wv[word]\n",
    "                sent_vec += vec\n",
    "                cnt_words += 1\n",
    "        if cnt_words != 0:\n",
    "            sent_vec /= cnt_words\n",
    "        sent_vectors.append(sent_vec)        \n",
    "    print(len(sent_vectors))\n",
    "    print(len(sent_vectors[0]))\n",
    "    return sent_vectors"
   ]
  },
  {
   "cell_type": "code",
   "execution_count": 40,
   "metadata": {
    "ExecuteTime": {
     "end_time": "2019-03-31T21:13:52.834305Z",
     "start_time": "2019-03-31T21:13:15.995768Z"
    }
   },
   "outputs": [
    {
     "name": "stdout",
     "output_type": "stream",
     "text": [
      "20680\n",
      "50\n"
     ]
    }
   ],
   "source": [
    "train_avgw2v = avg_w2v(list_of_sent_train)"
   ]
  },
  {
   "cell_type": "code",
   "execution_count": 41,
   "metadata": {
    "ExecuteTime": {
     "end_time": "2019-03-31T21:14:57.061310Z",
     "start_time": "2019-03-31T21:14:38.402504Z"
    }
   },
   "outputs": [
    {
     "name": "stdout",
     "output_type": "stream",
     "text": [
      "10187\n",
      "50\n"
     ]
    }
   ],
   "source": [
    "cv_avgw2v = avg_w2v(list_of_sent_CV)"
   ]
  },
  {
   "cell_type": "code",
   "execution_count": 42,
   "metadata": {
    "ExecuteTime": {
     "end_time": "2019-03-31T21:16:30.473731Z",
     "start_time": "2019-03-31T21:16:02.524190Z"
    }
   },
   "outputs": [
    {
     "name": "stdout",
     "output_type": "stream",
     "text": [
      "15204\n",
      "50\n"
     ]
    }
   ],
   "source": [
    "test_avgw2v = avg_w2v(list_of_sent_test)"
   ]
  },
  {
   "cell_type": "code",
   "execution_count": 43,
   "metadata": {
    "ExecuteTime": {
     "end_time": "2019-03-31T21:18:07.104458Z",
     "start_time": "2019-03-31T21:18:06.835646Z"
    }
   },
   "outputs": [],
   "source": [
    "normalizer = preprocessing.Normalizer()\n",
    "train_avgw2v = normalizer.fit_transform(train_avgw2v)\n",
    "cv_avgw2v = normalizer.transform(cv_avgw2v)\n",
    "test_avgw2v = normalizer.transform(test_avgw2v)"
   ]
  },
  {
   "cell_type": "code",
   "execution_count": 44,
   "metadata": {
    "ExecuteTime": {
     "end_time": "2019-03-31T21:19:51.692320Z",
     "start_time": "2019-03-31T21:18:08.936072Z"
    },
    "scrolled": true
   },
   "outputs": [
    {
     "name": "stdout",
     "output_type": "stream",
     "text": [
      "------------------------------ AUC Score for train data ------------------------------\n"
     ]
    },
    {
     "data": {
      "image/png": "[encoded data removed]",
      "text/plain": [
       "<Figure size 720x360 with 2 Axes>"
      ]
     },
     "metadata": {
      "needs_background": "light"
     },
     "output_type": "display_data"
    },
    {
     "name": "stdout",
     "output_type": "stream",
     "text": [
      "------------------------------ AUC Score for CV data ------------------------------\n"
     ]
    },
    {
     "data": {
      "image/png": "[encoded data removed]",
      "text/plain": [
       "<Figure size 720x360 with 2 Axes>"
      ]
     },
     "metadata": {
      "needs_background": "light"
     },
     "output_type": "display_data"
    }
   ],
   "source": [
    "# find optimal depth and optimal split\n",
    "DT_Classifier(train_avgw2v,cv_avgw2v,Y_tr,Y_cv)"
   ]
  },
  {
   "cell_type": "markdown",
   "metadata": {},
   "source": [
    "### Testing on Test data and Traing data in Avg-W2V "
   ]
  },
  {
   "cell_type": "code",
   "execution_count": 45,
   "metadata": {
    "ExecuteTime": {
     "end_time": "2019-04-01T09:39:30.376723Z",
     "start_time": "2019-04-01T09:39:27.337751Z"
    }
   },
   "outputs": [
    {
     "name": "stdout",
     "output_type": "stream",
     "text": [
      "AUC Score for train data 0.8017562175841553\n",
      "AUC Score for test data 0.7650219855793485\n",
      "macro f1 score for train data : 0.6094509303842343\n",
      "macro f1 score for test data : 0.5761325966850829\n",
      "micro f1 score for train data: 0.8477272727272728\n",
      "micro f1 score for test data: 0.8378058405682715\n",
      "hamming loss for train data: 0.15227272727272728\n",
      "hamming loss for test data: 0.1621941594317285\n",
      "Precision recall report for train data:\n",
      "               precision    recall  f1-score   support\n",
      "\n",
      "           0       0.63      0.20      0.30      3439\n",
      "           1       0.86      0.98      0.91     17241\n",
      "\n",
      "    accuracy                           0.85     20680\n",
      "   macro avg       0.75      0.59      0.61     20680\n",
      "weighted avg       0.82      0.85      0.81     20680\n",
      "\n",
      "Precision recall report for test data:\n",
      "               precision    recall  f1-score   support\n",
      "\n",
      "           0       0.54      0.16      0.24      2526\n",
      "           1       0.85      0.97      0.91     12678\n",
      "\n",
      "    accuracy                           0.84     15204\n",
      "   macro avg       0.70      0.57      0.58     15204\n",
      "weighted avg       0.80      0.84      0.80     15204\n",
      "\n"
     ]
    },
    {
     "data": {
      "image/png": "[encoded data removed]",
      "text/plain": [
       "<Figure size 432x288 with 1 Axes>"
      ]
     },
     "metadata": {
      "needs_background": "light"
     },
     "output_type": "display_data"
    },
    {
     "data": {
      "image/png": "[encoded data removed]",
      "text/plain": [
       "<Figure size 432x288 with 2 Axes>"
      ]
     },
     "metadata": {
      "needs_background": "light"
     },
     "output_type": "display_data"
    },
    {
     "data": {
      "image/png": "[encoded data removed]",
      "text/plain": [
       "<Figure size 432x288 with 2 Axes>"
      ]
     },
     "metadata": {
      "needs_background": "light"
     },
     "output_type": "display_data"
    }
   ],
   "source": [
    "testing(train_avgw2v,Y_tr,test_avgw2v,Y_test,optimal_depth=5,optimal_split=500)"
   ]
  },
  {
   "cell_type": "markdown",
   "metadata": {},
   "source": [
    "## TF-IDF Weighted W2V"
   ]
  },
  {
   "cell_type": "code",
   "execution_count": 46,
   "metadata": {
    "ExecuteTime": {
     "end_time": "2019-03-31T21:19:57.701067Z",
     "start_time": "2019-03-31T21:19:53.606005Z"
    }
   },
   "outputs": [
    {
     "name": "stdout",
     "output_type": "stream",
     "text": [
      "The type of count vectorizer  <class 'scipy.sparse.csr.csr_matrix'>\n",
      "The shape of out text TFIDF vectorizer  (20680, 17391)\n",
      "CV Data Size:  (10187, 17391)\n",
      "Test Data Size:  (15204, 17391)\n"
     ]
    }
   ],
   "source": [
    "tf_idf_vect = TfidfVectorizer()\n",
    "tfidf_train = tf_idf_vect.fit_transform(X_tr)\n",
    "print(\"The type of count vectorizer \",type(tfidf_train))\n",
    "print(\"The shape of out text TFIDF vectorizer \",tfidf_train.get_shape())\n",
    "tfidf_cv = tf_idf_vect.transform(X_cv)\n",
    "tfidf_test = tf_idf_vect.transform(X_test)\n",
    "print(\"CV Data Size: \",tfidf_cv.shape)\n",
    "print(\"Test Data Size: \",tfidf_test.shape)"
   ]
  },
  {
   "cell_type": "code",
   "execution_count": 47,
   "metadata": {
    "ExecuteTime": {
     "end_time": "2019-03-31T21:29:18.258209Z",
     "start_time": "2019-03-31T21:19:59.752879Z"
    }
   },
   "outputs": [
    {
     "name": "stdout",
     "output_type": "stream",
     "text": [
      "20680\n",
      "50\n"
     ]
    }
   ],
   "source": [
    "t = tf_idf_vect.get_feature_names()\n",
    "tfidf_sent_vectors_train = []; # the tfidf-w2v for each sentence/review is stored in this list\n",
    "row=0;\n",
    "for sent in list_of_sent_train:\n",
    "    sent_vec = np.zeros(50)\n",
    "    cnt_words = 0; # num of words with a valid vector in the sentence/review\n",
    "    for word in sent: # for each word in a review/sentence\n",
    "        if word in w2v_words:\n",
    "            vec = w2v_model.wv[word]\n",
    "            tfidf = tfidf_train[row,t.index(word)]\n",
    "            sent_vec += (vec * tfidf)\n",
    "            cnt_words += tfidf\n",
    "    if cnt_words != 0:\n",
    "        sent_vec /= cnt_words\n",
    "    tfidf_sent_vectors_train.append(sent_vec)\n",
    "    row += 1\n",
    "print(len(tfidf_sent_vectors_train))\n",
    "print(len(tfidf_sent_vectors_train[0]))\n",
    "#return tfidf_sent_vectors_train"
   ]
  },
  {
   "cell_type": "code",
   "execution_count": 48,
   "metadata": {
    "ExecuteTime": {
     "end_time": "2019-03-31T21:34:45.713105Z",
     "start_time": "2019-03-31T21:30:03.201892Z"
    }
   },
   "outputs": [
    {
     "name": "stdout",
     "output_type": "stream",
     "text": [
      "10187\n",
      "50\n"
     ]
    }
   ],
   "source": [
    "t = tf_idf_vect.get_feature_names()\n",
    "tfidf_sent_vectors_CV = []; # the tfidf-w2v for each sentence/review is stored in this list\n",
    "row=0;\n",
    "for sent in list_of_sent_CV:\n",
    "    sent_vec = np.zeros(50)\n",
    "    cnt_words = 0; # num of words with a valid vector in the sentence/review\n",
    "    for word in sent: # for each word in a review/sentence\n",
    "        if word in w2v_words:\n",
    "            vec = w2v_model.wv[word]\n",
    "            tfidf = tfidf_cv[row,t.index(word)]\n",
    "            sent_vec += (vec * tfidf)\n",
    "            cnt_words += tfidf\n",
    "    if cnt_words != 0:\n",
    "        sent_vec /= cnt_words\n",
    "    tfidf_sent_vectors_CV.append(sent_vec)\n",
    "    row += 1\n",
    "print(len(tfidf_sent_vectors_CV))\n",
    "print(len(tfidf_sent_vectors_CV[0]))\n",
    "#return tfidf_sent_vectors_CV"
   ]
  },
  {
   "cell_type": "code",
   "execution_count": 49,
   "metadata": {
    "ExecuteTime": {
     "end_time": "2019-03-31T21:42:45.483246Z",
     "start_time": "2019-03-31T21:35:51.172322Z"
    }
   },
   "outputs": [
    {
     "name": "stdout",
     "output_type": "stream",
     "text": [
      "15204\n",
      "50\n"
     ]
    }
   ],
   "source": [
    "t = tf_idf_vect.get_feature_names()\n",
    "tfidf_sent_vectors_test = []; # the tfidf-w2v for each sentence/review is stored in this list\n",
    "row=0;\n",
    "for sent in list_of_sent_test:\n",
    "    sent_vec = np.zeros(50)\n",
    "    cnt_words = 0; # num of words with a valid vector in the sentence/review\n",
    "    for word in sent: # for each word in a review/sentence\n",
    "        if word in w2v_words:\n",
    "            vec = w2v_model.wv[word]\n",
    "            tfidf = tfidf_test[row,t.index(word)]\n",
    "            sent_vec += (vec * tfidf)\n",
    "            cnt_words += tfidf\n",
    "    if cnt_words != 0:\n",
    "        sent_vec /= cnt_words\n",
    "    tfidf_sent_vectors_test.append(sent_vec)\n",
    "    row += 1\n",
    "print(len(tfidf_sent_vectors_test))\n",
    "print(len(tfidf_sent_vectors_test[0]))\n",
    "#return tfidf_sent_vectors_test"
   ]
  },
  {
   "cell_type": "code",
   "execution_count": 50,
   "metadata": {
    "ExecuteTime": {
     "end_time": "2019-03-31T21:44:22.068010Z",
     "start_time": "2019-03-31T21:44:22.062012Z"
    }
   },
   "outputs": [],
   "source": [
    "train_tfidfw2v = tfidf_sent_vectors_train\n",
    "cv_tfidfw2v = tfidf_sent_vectors_CV\n",
    "test_tfidfw2v = tfidf_sent_vectors_test"
   ]
  },
  {
   "cell_type": "code",
   "execution_count": 51,
   "metadata": {
    "ExecuteTime": {
     "end_time": "2019-03-31T21:47:34.430249Z",
     "start_time": "2019-03-31T21:47:34.213579Z"
    }
   },
   "outputs": [],
   "source": [
    "normalizer = preprocessing.Normalizer()\n",
    "train_tfidfw2v = normalizer.fit_transform(train_tfidfw2v)\n",
    "cv_tfidfw2v = normalizer.transform(cv_tfidfw2v)\n",
    "test_tfidfw2v = normalizer.transform(test_tfidfw2v)"
   ]
  },
  {
   "cell_type": "code",
   "execution_count": 52,
   "metadata": {
    "ExecuteTime": {
     "end_time": "2019-03-31T21:50:52.777719Z",
     "start_time": "2019-03-31T21:49:11.844271Z"
    }
   },
   "outputs": [
    {
     "name": "stdout",
     "output_type": "stream",
     "text": [
      "------------------------------ AUC Score for train data ------------------------------\n"
     ]
    },
    {
     "data": {
      "image/png": "[encoded data removed]",
      "text/plain": [
       "<Figure size 720x360 with 2 Axes>"
      ]
     },
     "metadata": {
      "needs_background": "light"
     },
     "output_type": "display_data"
    },
    {
     "name": "stdout",
     "output_type": "stream",
     "text": [
      "------------------------------ AUC Score for CV data ------------------------------\n"
     ]
    },
    {
     "data": {
      "image/png": "[encoded data removed]",
      "text/plain": [
       "<Figure size 720x360 with 2 Axes>"
      ]
     },
     "metadata": {
      "needs_background": "light"
     },
     "output_type": "display_data"
    }
   ],
   "source": [
    "# find optimal depth and optimal split\n",
    "DT_Classifier(train_tfidfw2v,cv_tfidfw2v,Y_tr,Y_cv)"
   ]
  },
  {
   "cell_type": "markdown",
   "metadata": {},
   "source": [
    "### Testing on Test data and Training data in TF-IDF W2V "
   ]
  },
  {
   "cell_type": "code",
   "execution_count": 53,
   "metadata": {
    "ExecuteTime": {
     "end_time": "2019-04-01T09:40:20.522088Z",
     "start_time": "2019-04-01T09:40:17.906880Z"
    }
   },
   "outputs": [
    {
     "name": "stdout",
     "output_type": "stream",
     "text": [
      "AUC Score for train data 0.7528898811115513\n",
      "AUC Score for test data 0.72783585495513\n",
      "macro f1 score for train data : 0.5912030663784161\n",
      "macro f1 score for test data : 0.5716390349646141\n",
      "micro f1 score for train data: 0.8485493230174082\n",
      "micro f1 score for test data: 0.8412917653249143\n",
      "hamming loss for train data: 0.15145067698259188\n",
      "hamming loss for test data: 0.1587082346750855\n",
      "Precision recall report for train data:\n",
      "               precision    recall  f1-score   support\n",
      "\n",
      "           0       0.68      0.17      0.27      3439\n",
      "           1       0.86      0.98      0.92     17241\n",
      "\n",
      "    accuracy                           0.85     20680\n",
      "   macro avg       0.77      0.58      0.59     20680\n",
      "weighted avg       0.83      0.85      0.81     20680\n",
      "\n",
      "Precision recall report for test data:\n",
      "               precision    recall  f1-score   support\n",
      "\n",
      "           0       0.59      0.14      0.23      2526\n",
      "           1       0.85      0.98      0.91     12678\n",
      "\n",
      "    accuracy                           0.84     15204\n",
      "   macro avg       0.72      0.56      0.57     15204\n",
      "weighted avg       0.81      0.84      0.80     15204\n",
      "\n"
     ]
    },
    {
     "data": {
      "image/png": "[encoded data removed]",
      "text/plain": [
       "<Figure size 432x288 with 1 Axes>"
      ]
     },
     "metadata": {
      "needs_background": "light"
     },
     "output_type": "display_data"
    },
    {
     "data": {
      "image/png": "[encoded data removed]",
      "text/plain": [
       "<Figure size 432x288 with 2 Axes>"
      ]
     },
     "metadata": {
      "needs_background": "light"
     },
     "output_type": "display_data"
    },
    {
     "data": {
      "image/png": "[encoded data removed]",
      "text/plain": [
       "<Figure size 432x288 with 2 Axes>"
      ]
     },
     "metadata": {
      "needs_background": "light"
     },
     "output_type": "display_data"
    }
   ],
   "source": [
    "testing(train_tfidfw2v,Y_tr,test_tfidfw2v,Y_test,optimal_depth=5,optimal_split=100)"
   ]
  },
  {
   "cell_type": "code",
   "execution_count": 56,
   "metadata": {
    "ExecuteTime": {
     "end_time": "2019-04-01T10:44:10.011876Z",
     "start_time": "2019-04-01T10:44:09.995879Z"
    }
   },
   "outputs": [
    {
     "data": {
      "text/markdown": [
       "****Final Conclusion:****"
      ],
      "text/plain": [
       "<IPython.core.display.Markdown object>"
      ]
     },
     "metadata": {},
     "output_type": "display_data"
    },
    {
     "name": "stdout",
     "output_type": "stream",
     "text": [
      "+------------+-----------------------------+---------------------------------+----------------+\n",
      "| Vectorizer | Best Hyper Parameter(Depth) | Best Hyper parameter(min_split) | Test Auc Score |\n",
      "+------------+-----------------------------+---------------------------------+----------------+\n",
      "|    BoW     |              10             |               100               |     76.37      |\n",
      "|   Tf-Idf   |              10             |               500               |     76.66      |\n",
      "|  Avg-W2V   |              5              |               500               |     80.18      |\n",
      "| TfIdf-W2V  |              5              |               100               |     78.08      |\n",
      "+------------+-----------------------------+---------------------------------+----------------+\n"
     ]
    }
   ],
   "source": [
    "\n",
    "from prettytable import PrettyTable\n",
    "x = PrettyTable()\n",
    "x.field_names = [\"Vectorizer\",\"Best Hyper Parameter(Depth)\",\"Best Hyper parameter(min_split)\",\"Test Auc Score\"]\n",
    "x.add_row([\"BoW\",10,100,76.37])\n",
    "x.add_row([\"Tf-Idf\",10,500,76.66])\n",
    "x.add_row([\"Avg-W2V\",5,500,80.18])\n",
    "x.add_row([\"TfIdf-W2V\",5,100,78.08])\n",
    "from IPython.display import Markdown, display\n",
    "def printmd(string):\n",
    "    display(Markdown(string))\n",
    "printmd('****Final Conclusion:****')\n",
    "print(x)"
   ]
  },
  {
   "cell_type": "code",
   "execution_count": null,
   "metadata": {},
   "outputs": [],
   "source": []
  }
 ],
 "metadata": {
  "colab": {
   "collapsed_sections": [
    "0Zhvc5AMMQwD"
   ],
   "name": "Amazon Fine Food Reviews Analysis.ipynb",
   "provenance": [],
   "version": "0.3.2"
  },
  "kernelspec": {
   "display_name": "Python 3",
   "language": "python",
   "name": "python3"
  },
  "language_info": {
   "codemirror_mode": {
    "name": "ipython",
    "version": 3
   },
   "file_extension": ".py",
   "mimetype": "text/x-python",
   "name": "python",
   "nbconvert_exporter": "python",
   "pygments_lexer": "ipython3",
   "version": "3.7.1"
  },
  "toc": {
   "base_numbering": 1,
   "nav_menu": {},
   "number_sections": true,
   "sideBar": true,
   "skip_h1_title": false,
   "title_cell": "Table of Contents",
   "title_sidebar": "Contents",
   "toc_cell": false,
   "toc_position": {},
   "toc_section_display": true,
   "toc_window_display": false
  },
  "varInspector": {
   "cols": {
    "lenName": 16,
    "lenType": 16,
    "lenVar": 40
   },
   "kernels_config": {
    "python": {
     "delete_cmd_postfix": "",
     "delete_cmd_prefix": "del ",
     "library": "var_list.py",
     "varRefreshCmd": "print(var_dic_list())"
    },
    "r": {
     "delete_cmd_postfix": ") ",
     "delete_cmd_prefix": "rm(",
     "library": "var_list.r",
     "varRefreshCmd": "cat(var_dic_list()) "
    }
   },
   "oldHeight": 660,
   "position": {
    "height": "657px",
    "left": "606px",
    "right": "20px",
    "top": "-14px",
    "width": "717px"
   },
   "types_to_exclude": [
    "module",
    "function",
    "builtin_function_or_method",
    "instance",
    "_Feature"
   ],
   "varInspector_section_display": "block",
   "window_display": false
  }
 },
 "nbformat": 4,
 "nbformat_minor": 1
}
